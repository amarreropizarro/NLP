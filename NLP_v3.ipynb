{
 "cells": [
  {
   "cell_type": "markdown",
   "metadata": {},
   "source": [
    "# TRABAJO FINAL: PROCESAMIENTO DEL LENGUAJE NATURAL\n",
    "\n",
    "## *Análisis de sentimientos: Las recetas de cocina y Facebook*\n",
    "### Año 2017\n",
    "### Integrantes\n",
    " * Franco, Laura Sol\n",
    " * Marrero Pizarro, Andrés Maximiliano\n",
    " * Timpani, Pamela Denise\n",
    " * Zamit, Ana Laura"
   ]
  },
  {
   "cell_type": "markdown",
   "metadata": {},
   "source": [
    "### Objetivo del trabajo\n",
    "Se implementará un clasificador que permita realizar un análisis de sentimientos a partir de los comentarios realizados por los usuarios de Facebook en publicaciones realizadas por páginas de cocina que contengan recetas.\n",
    "### Abordaje del desarrollo e implementación del clasificador \n",
    "En los pasos que se irán detallando a continuación se indicará cómo se construye el clasificador, con qué bases de datos se cuenta, como se realiza la tokenización de las palabras, limpieza y acondicionamiento de los datos con los que se cuenta, desarrollo del clasificador del tipo suvervisado en Python y posterior implementación en un set testeo.\n",
    "#### Importación de librerías\n",
    "Las librerías de Python que se utilizarán para la labor son las siguientes:"
   ]
  },
  {
   "cell_type": "code",
   "execution_count": 1,
   "metadata": {
    "collapsed": true
   },
   "outputs": [],
   "source": [
    "import urllib3\n",
    "urllib3.disable_warnings()\n",
    "import json\n",
    "import datetime\n",
    "import csv\n",
    "import time\n",
    "import pandas as pd\n",
    "import numpy as np\n",
    "import re"
   ]
  },
  {
   "cell_type": "markdown",
   "metadata": {},
   "source": [
    "#### Configuración de la API de Facebook\n",
    "A continuación se destacan los parámetros utilizados para acceder a las páginas de Facebook de interés como *Upsoclsabores* o *Cucinareok* y tomar los comentarios de los usuarios.\n",
    "\n",
    "1\\. El usuario y la password utilizada junto con el token de acceso, los id de las páginas son:\n"
   ]
  },
  {
   "cell_type": "code",
   "execution_count": 2,
   "metadata": {
    "collapsed": true
   },
   "outputs": [],
   "source": [
    "app_id = \"133254600775938\"\n",
    "\n",
    "app_secret = \"c24db12ccb6a583d8e212600c1bed43e\" # DO NOT SHARE WITH ANYONE!\n",
    "\n",
    "access_token = app_id + \"|\" + app_secret\n",
    "\n",
    "#page_id = 'nytimes'\n",
    "#page_id = 'www.salesintacc.com.ar'\n",
    "#page_id = 'upsoclsabores'\n",
    "page_id = 'cucinareok'"
   ]
  },
  {
   "cell_type": "markdown",
   "metadata": {},
   "source": [
    "2\\. Acceso a Facebook: se genera un permiso para ingresar a la aplicación y en caso de error se reinicia la conexión."
   ]
  },
  {
   "cell_type": "code",
   "execution_count": 3,
   "metadata": {
    "collapsed": true
   },
   "outputs": [],
   "source": [
    "def request_until_succeed(url):\n",
    "    http = urllib3.PoolManager()\n",
    "    req = http.request('GET', url)\n",
    "    success = False\n",
    "    while success is False:\n",
    "        try:\n",
    "            response = http.urlopen('GET',url)\n",
    "            if response.status == 200:\n",
    "                success = True\n",
    "        except:\n",
    "            time.sleep(5)\n",
    "            \n",
    "            print (\"Error for URL %s: %s\" % (url, datetime.datetime.now()))\n",
    "\n",
    "    return req"
   ]
  },
  {
   "cell_type": "code",
   "execution_count": 41,
   "metadata": {
    "collapsed": false
   },
   "outputs": [],
   "source": [
    "def getFacebookPageFeedData(page_id, access_token, num_statuses):\n",
    "    \n",
    "    # construct the URL string\n",
    "    base = \"https://graph.facebook.com/v2.11\" #cambié v2.4 a v2.11, funcionaba igual con v2.4\n",
    "    node = \"/\" + page_id + \"/feed\"\n",
    "    parameters = \"/?fields=message,link,created_time,type,name,id,comments,from,attachment,shares&limit=%s&access_token=%s\" % (num_statuses, access_token)\n",
    "    url = base + node + parameters\n",
    "    \n",
    "    # Esto está cambiado respecto al ejemplo\n",
    "    http = urllib3.PoolManager()\n",
    "    req = http.request('GET', url)\n",
    "    data = json.loads(request_until_succeed(url).data.decode('utf-8'))\n",
    "    return data\n",
    "    "
   ]
  },
  {
   "cell_type": "code",
   "execution_count": 42,
   "metadata": {
    "collapsed": false
   },
   "outputs": [],
   "source": [
    "#Estoy levantando 100 posts\n",
    "salida_all = getFacebookPageFeedData(page_id, access_token, 100)\n",
    "\n",
    "columns = ['post_from', 'post_id', 'post_name', 'post_type', 'post_message', 'post_link', 'post_shares', 'created_time']\n",
    "\n",
    "df_posts = pd.DataFrame(columns=columns)"
   ]
  },
  {
   "cell_type": "code",
   "execution_count": 43,
   "metadata": {
    "collapsed": true
   },
   "outputs": [],
   "source": [
    "def scrapPosts(post):\n",
    "    post_from = '' if 'from' not in post.keys() else post['from']['id']\n",
    "    post_id = post['id']\n",
    "    post_name = '' if 'name' not in post.keys() else post['name']\n",
    "    post_type = '' if 'type' not in post.keys() else post['type']\n",
    "    post_message = '' if 'message' not in post.keys() else post['message']\n",
    "    post_link = '' if 'link' not in post.keys() else post['link']\n",
    "    post_shares = '' if 'shares' not in post.keys() else post['shares']['count']\n",
    "    created_time = datetime.datetime.strptime(post['created_time'],'%Y-%m-%dT%H:%M:%S+0000')\n",
    "    created_time = created_time + datetime.timedelta(hours=-5) # EST\n",
    "    created_time = created_time.strftime('%Y-%m-%d %H:%M:%S')    \n",
    "\n",
    "    return(post_from, post_id, post_name, post_type, post_message, post_link, post_shares, created_time)\n"
   ]
  },
  {
   "cell_type": "code",
   "execution_count": 44,
   "metadata": {
    "collapsed": true
   },
   "outputs": [],
   "source": [
    "n_posts = len(salida_all['data'])\n",
    "\n",
    "for i in range(n_posts):\n",
    "    df = pd.DataFrame(list(scrapPosts(salida_all[\"data\"][i])),index = ['post_from', 'post_id', 'post_name', 'post_type', 'post_message', 'post_link', 'post_shares', 'created_time']).transpose()\n",
    "    df_posts = df_posts.append(df, ignore_index=True)    \n"
   ]
  },
  {
   "cell_type": "code",
   "execution_count": 64,
   "metadata": {
    "collapsed": true
   },
   "outputs": [],
   "source": [
    "df_posts.to_csv( 'df_posts.csv', encode = 'utf-8' )"
   ]
  },
  {
   "cell_type": "code",
   "execution_count": 282,
   "metadata": {
    "collapsed": true
   },
   "outputs": [],
   "source": [
    "def scrapComments(pos, com):\n",
    "\n",
    "    post_id = salida_all[\"data\"][pos][\"id\"]\n",
    "    comm_id = salida_all[\"data\"][pos][\"comments\"][\"data\"][com][\"id\"]\n",
    "    comm_msg = salida_all[\"data\"][pos][\"comments\"][\"data\"][com][\"message\"]\n",
    "    comm_date = datetime.datetime.strptime(salida_all[\"data\"][pos][\"comments\"][\"data\"][com][\"created_time\"],'%Y-%m-%dT%H:%M:%S+0000')\n",
    "    comm_date = comm_date + datetime.timedelta(hours=-5) # EST\n",
    "    comm_date = comm_date.strftime('%Y-%m-%d %H:%M:%S') # best time format for spreadsheet programs\n",
    "    \n",
    "    return(post_id, comm_id, comm_msg, comm_date)    \n"
   ]
  },
  {
   "cell_type": "code",
   "execution_count": 283,
   "metadata": {
    "collapsed": false
   },
   "outputs": [],
   "source": [
    "df_comms = pd.DataFrame(columns=['post_id','comm_id','comm_msg','comm_date'])"
   ]
  },
  {
   "cell_type": "code",
   "execution_count": 284,
   "metadata": {
    "collapsed": false
   },
   "outputs": [],
   "source": [
    "#n_posts = len(salida_all['data'])\n",
    "\n",
    "for i in range(n_posts):\n",
    "    if len(salida_all[\"data\"][i]) <= 8:\n",
    "        continue\n",
    "    ncomm = len(salida_all[\"data\"][i][\"comments\"][\"data\"])\n",
    "    for c in range(ncomm):\n",
    "        df = pd.DataFrame(list(scrapComments(i,c)), index=['post_id','comm_id','comm_msg','comm_date']).transpose()\n",
    "        df_comms = df_comms.append(df, ignore_index=True)\n",
    "        \n",
    "        "
   ]
  },
  {
   "cell_type": "code",
   "execution_count": 285,
   "metadata": {
    "collapsed": false
   },
   "outputs": [],
   "source": [
    "\n",
    "emoji_pattern = re.compile(\"[\"\n",
    "        u\"\\U0001F600-\\U0001F64F\"  # emoticons\n",
    "        u\"\\U0001F300-\\U0001F5FF\"  # symbols & pictographs\n",
    "        u\"\\U0001F680-\\U0001F6FF\"  # transport & map symbols\n",
    "        u\"\\U0001F1E0-\\U0001F1FF\"  # flags (iOS)\n",
    "                           \"]+\", flags=re.UNICODE)\n",
    "\n",
    "df_comms['emojis'] = df_comms['comm_msg'].apply(lambda x: emoji_pattern.findall(x))\n",
    "\n",
    "df_comms['comm_msg'] = df_comms['comm_msg'].apply(lambda x: emoji_pattern.sub(r'', x))\n",
    "\n",
    "df_comms['emojis'] = df_comms['emojis'].apply(lambda x: ''.join(x))"
   ]
  },
  {
   "cell_type": "code",
   "execution_count": 286,
   "metadata": {
    "collapsed": false
   },
   "outputs": [],
   "source": [
    "df_comms['emoji_count'] = df_comms.emojis.str.len()"
   ]
  },
  {
   "cell_type": "code",
   "execution_count": 287,
   "metadata": {
    "collapsed": true
   },
   "outputs": [],
   "source": [
    "df_comms.to_csv( 'df_comms.csv', encoding = 'utf-8')"
   ]
  },
  {
   "cell_type": "code",
   "execution_count": 288,
   "metadata": {
    "collapsed": false
   },
   "outputs": [],
   "source": [
    "#reload_comms = pd.read_csv('df_comms.csv', encoding ='utf-8')\n",
    "#reload_comms"
   ]
  }
 ],
 "metadata": {
  "anaconda-cloud": {},
  "kernelspec": {
   "display_name": "Python [default]",
   "language": "python",
   "name": "python3"
  },
  "language_info": {
   "codemirror_mode": {
    "name": "ipython",
    "version": 3
   },
   "file_extension": ".py",
   "mimetype": "text/x-python",
   "name": "python",
   "nbconvert_exporter": "python",
   "pygments_lexer": "ipython3",
   "version": "3.5.2"
  }
 },
 "nbformat": 4,
 "nbformat_minor": 1
}
