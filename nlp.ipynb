{
 "cells": [
  {
   "cell_type": "code",
   "execution_count": 39,
   "metadata": {
    "collapsed": true
   },
   "outputs": [],
   "source": [
    "import urllib3\n",
    "urllib3.disable_warnings()\n",
    "import json\n",
    "import datetime\n",
    "import csv\n",
    "import time"
   ]
  },
  {
   "cell_type": "markdown",
   "metadata": {},
   "source": [
    "* El ejemplo sale de: https://github.com/minimaxir/facebook-page-post-scraper/blob/master/examples/how_to_build_facebook_scraper.ipynb\n",
    "\n",
    "* Usa urllib3 en vez de urllib2\n",
    "\n",
    "* La adaptación de \"testFacebookPageData\" sale de:  \n",
    "https://urllib3.readthedocs.io/en/latest/user-guide.html"
   ]
  },
  {
   "cell_type": "code",
   "execution_count": 57,
   "metadata": {
    "collapsed": false
   },
   "outputs": [],
   "source": [
    "# El app_id salió de registrarme como desarrollador en facebook, y creando una nueva aplicaicón.\n",
    "# luego yendo a dashboard obtenes el app_idd, y app_secret\n",
    "# https://developers.facebook.com/apps/133254600775938/dashboard/\n",
    "\n",
    "app_id = \"133254600775938\"\n",
    "\n",
    "app_secret = \"c24db12ccb6a583d8e212600c1bed43e\" # DO NOT SHARE WITH ANYONE!\n",
    "\n",
    "access_token = app_id + \"|\" + app_secret\n",
    "\n",
    "#page_id = 'nytimes'\n",
    "page_id = 'www.salesintacc.com.ar'"
   ]
  },
  {
   "cell_type": "code",
   "execution_count": 268,
   "metadata": {
    "collapsed": false
   },
   "outputs": [],
   "source": [
    "def request_until_succeed(url):\n",
    "    http = urllib3.PoolManager()\n",
    "    req = http.request('GET', url)\n",
    "    success = False\n",
    "    while success is False:\n",
    "        try:\n",
    "            response = http.urlopen('GET',url)\n",
    "            if response.status == 200:\n",
    "                success = True\n",
    "        except:\n",
    "            time.sleep(5)\n",
    "            \n",
    "            print (\"Error for URL %s: %s\" % (url, datetime.datetime.now()))\n",
    "\n",
    "    return req"
   ]
  },
  {
   "cell_type": "code",
   "execution_count": 455,
   "metadata": {
    "collapsed": false
   },
   "outputs": [],
   "source": [
    "def getFacebookPageFeedData(page_id, access_token, num_statuses):\n",
    "    \n",
    "    # construct the URL string\n",
    "    base = \"https://graph.facebook.com/v2.11\" #cambié v2.4 a v2.11, funcionaba igual con v2.4\n",
    "    node = \"/\" + page_id + \"/feed\"\n",
    "    parameters = \"/?fields=message,link,created_time,type,name,id,comments,from,attachment,shares&limit=%s&access_token=%s\" % (num_statuses, access_token)\n",
    "    url = base + node + parameters\n",
    "    \n",
    "    # Esto está cambiado respecto al ejemplo\n",
    "    http = urllib3.PoolManager()\n",
    "    req = http.request('GET', url)\n",
    "    data = json.loads(request_until_succeed(url).data.decode('latin-1'))\n",
    "    return data\n",
    "    \n",
    "#test_status = getFacebookPageFeedData(page_id, access_token, 1)[\"data\"][0]\n",
    "#print(json.dumps(test_status, indent=4, sort_keys=True))"
   ]
  },
  {
   "cell_type": "code",
   "execution_count": 458,
   "metadata": {
    "collapsed": false
   },
   "outputs": [],
   "source": [
    "salida = getFacebookPageFeedData(page_id, access_token, 1)[\"data\"][0]"
   ]
  },
  {
   "cell_type": "code",
   "execution_count": 494,
   "metadata": {
    "collapsed": true
   },
   "outputs": [],
   "source": [
    "salida_comments = salida['comments']['data']"
   ]
  },
  {
   "cell_type": "markdown",
   "metadata": {},
   "source": [
    "salida.keys()\n",
    "dict_keys(['id', 'type', 'shares', 'from', 'link', 'comments', 'name', 'message', 'created_time'])\n",
    "\n",
    "salida_comments.keys()\n",
    "dict_keys(['data', 'paging'])\n",
    "\n",
    "salida_comments[\"data\"][0]\n",
    "{'created_time': '2017-11-03T13:16:01+0000',\n",
    " 'id': '719646494891263_719657031556876',\n",
    " 'message': 'De donde sos'}\n",
    "\n",
    "salida_comments[\"data\"][0][\"created_time\"]\n",
    "'2017-11-03T13:16:01+0000'\n",
    "\n",
    "salida_comments[\"data\"][0][\"id\"]\n",
    "'719646494891263_719657031556876'\n",
    "\n",
    "salida_comments[\"data\"][0][\"message\"]\n",
    "'De donde sos'\n",
    "\n",
    "len(salida_comments[\"data\"])\n",
    "23"
   ]
  },
  {
   "cell_type": "code",
   "execution_count": 512,
   "metadata": {
    "collapsed": false
   },
   "outputs": [],
   "source": [
    "def scrapComments(pos):\n",
    "\n",
    "    comm_id = salida_comments[pos]['id']\n",
    "    comm_msg = salida_comments[pos]['message']\n",
    "    comm_date = datetime.datetime.strptime(salida_comments[pos]['created_time'],'%Y-%m-%dT%H:%M:%S+0000')\n",
    "    comm_date = comm_date + datetime.timedelta(hours=-5) # EST\n",
    "    comm_date = comm_date.strftime('%Y-%m-%d %H:%M:%S') # best time format for spreadsheet programs\n",
    "\n",
    "    return(comm_id, comm_msg, comm_date)    "
   ]
  },
  {
   "cell_type": "code",
   "execution_count": 584,
   "metadata": {
    "collapsed": true
   },
   "outputs": [],
   "source": [
    "df_comms = pd.DataFrame(columns=['comm_id','comm_msg','comm_date'])"
   ]
  },
  {
   "cell_type": "code",
   "execution_count": 585,
   "metadata": {
    "collapsed": false
   },
   "outputs": [],
   "source": [
    "#import pandas as pd\n",
    "#list(scrapComments(1))\n",
    "#pd.DataFrame(scrapComments(1))\n",
    "\n",
    "ncomm = len(salida_comments)\n",
    "\n",
    "for i in range(ncomm):\n",
    "\n",
    "    df = pd.DataFrame(list(scrapComments(i)), index=['comm_id','comm_msg','comm_date']).transpose()\n",
    "\n",
    "    df_comms = df_comms.append(df, ignore_index=True)\n"
   ]
  },
  {
   "cell_type": "code",
   "execution_count": 586,
   "metadata": {
    "collapsed": false
   },
   "outputs": [
    {
     "data": {
      "text/html": [
       "<div>\n",
       "<table border=\"1\" class=\"dataframe\">\n",
       "  <thead>\n",
       "    <tr style=\"text-align: right;\">\n",
       "      <th></th>\n",
       "      <th>comm_id</th>\n",
       "      <th>comm_msg</th>\n",
       "      <th>comm_date</th>\n",
       "    </tr>\n",
       "  </thead>\n",
       "  <tbody>\n",
       "    <tr>\n",
       "      <th>0</th>\n",
       "      <td>719646494891263_719657031556876</td>\n",
       "      <td>De donde sos</td>\n",
       "      <td>2017-11-03 08:16:01</td>\n",
       "    </tr>\n",
       "    <tr>\n",
       "      <th>1</th>\n",
       "      <td>719646494891263_719676501554929</td>\n",
       "      <td>Un telefono xfa</td>\n",
       "      <td>2017-11-03 08:54:17</td>\n",
       "    </tr>\n",
       "    <tr>\n",
       "      <th>2</th>\n",
       "      <td>719646494891263_719696811552898</td>\n",
       "      <td>Ojalá hubiera opciones así en mí lugar!!! 😱😭😊</td>\n",
       "      <td>2017-11-03 09:26:45</td>\n",
       "    </tr>\n",
       "    <tr>\n",
       "      <th>3</th>\n",
       "      <td>719646494891263_719710481551531</td>\n",
       "      <td>Es cierto!!</td>\n",
       "      <td>2017-11-03 09:48:43</td>\n",
       "    </tr>\n",
       "    <tr>\n",
       "      <th>4</th>\n",
       "      <td>719646494891263_719716021550977</td>\n",
       "      <td>Son de rosario?</td>\n",
       "      <td>2017-11-03 09:56:47</td>\n",
       "    </tr>\n",
       "    <tr>\n",
       "      <th>5</th>\n",
       "      <td>719646494891263_719724488216797</td>\n",
       "      <td>Hola.me.podrias pasar bien la.dirrecion. soy d...</td>\n",
       "      <td>2017-11-03 10:15:01</td>\n",
       "    </tr>\n",
       "    <tr>\n",
       "      <th>6</th>\n",
       "      <td>719646494891263_719726411549938</td>\n",
       "      <td>Cordoba</td>\n",
       "      <td>2017-11-03 10:21:22</td>\n",
       "    </tr>\n",
       "    <tr>\n",
       "      <th>7</th>\n",
       "      <td>719646494891263_719730021549577</td>\n",
       "      <td>Uuu ke lejos ...!!!!</td>\n",
       "      <td>2017-11-03 10:30:41</td>\n",
       "    </tr>\n",
       "    <tr>\n",
       "      <th>8</th>\n",
       "      <td>719646494891263_719732414882671</td>\n",
       "      <td>Gaston Nicolás</td>\n",
       "      <td>2017-11-03 10:40:22</td>\n",
       "    </tr>\n",
       "    <tr>\n",
       "      <th>9</th>\n",
       "      <td>719646494891263_719736754882237</td>\n",
       "      <td>En donde esta el negocio o me podes pasar la d...</td>\n",
       "      <td>2017-11-03 10:55:35</td>\n",
       "    </tr>\n",
       "    <tr>\n",
       "      <th>10</th>\n",
       "      <td>719646494891263_719739468215299</td>\n",
       "      <td>Lastima que están tan lejos😔</td>\n",
       "      <td>2017-11-03 11:02:01</td>\n",
       "    </tr>\n",
       "    <tr>\n",
       "      <th>11</th>\n",
       "      <td>719646494891263_719742211548358</td>\n",
       "      <td>De donde son?</td>\n",
       "      <td>2017-11-03 11:08:31</td>\n",
       "    </tr>\n",
       "    <tr>\n",
       "      <th>12</th>\n",
       "      <td>719646494891263_719744744881438</td>\n",
       "      <td>Puede ser que hagan alfajores de maicena ?</td>\n",
       "      <td>2017-11-03 11:15:28</td>\n",
       "    </tr>\n",
       "    <tr>\n",
       "      <th>13</th>\n",
       "      <td>719646494891263_719744861548093</td>\n",
       "      <td>De donde son??</td>\n",
       "      <td>2017-11-03 11:16:01</td>\n",
       "    </tr>\n",
       "    <tr>\n",
       "      <th>14</th>\n",
       "      <td>719646494891263_719751628214083</td>\n",
       "      <td>Hacen envío  a capital Federal?</td>\n",
       "      <td>2017-11-03 11:32:10</td>\n",
       "    </tr>\n",
       "    <tr>\n",
       "      <th>15</th>\n",
       "      <td>719646494891263_719751734880739</td>\n",
       "      <td>Excelentes los sorrentinos de palta y queso!!!...</td>\n",
       "      <td>2017-11-03 11:32:25</td>\n",
       "    </tr>\n",
       "    <tr>\n",
       "      <th>16</th>\n",
       "      <td>719646494891263_719778468211399</td>\n",
       "      <td>Hacen envios a cap. Federal??</td>\n",
       "      <td>2017-11-03 13:14:55</td>\n",
       "    </tr>\n",
       "    <tr>\n",
       "      <th>17</th>\n",
       "      <td>719646494891263_719835394872373</td>\n",
       "      <td></td>\n",
       "      <td>2017-11-03 16:44:06</td>\n",
       "    </tr>\n",
       "    <tr>\n",
       "      <th>18</th>\n",
       "      <td>719646494891263_719854214870491</td>\n",
       "      <td>Alto! No entiendo, usted es d cordoba o de la ...</td>\n",
       "      <td>2017-11-03 18:17:45</td>\n",
       "    </tr>\n",
       "    <tr>\n",
       "      <th>19</th>\n",
       "      <td>719646494891263_719877498201496</td>\n",
       "      <td>De donde sos???</td>\n",
       "      <td>2017-11-03 19:58:54</td>\n",
       "    </tr>\n",
       "    <tr>\n",
       "      <th>20</th>\n",
       "      <td>719646494891263_720333821489197</td>\n",
       "      <td>De que provincia sos?</td>\n",
       "      <td>2017-11-04 19:13:42</td>\n",
       "    </tr>\n",
       "    <tr>\n",
       "      <th>21</th>\n",
       "      <td>719646494891263_720334721489107</td>\n",
       "      <td>Cuanto trae la caja de ravioles?</td>\n",
       "      <td>2017-11-04 19:17:29</td>\n",
       "    </tr>\n",
       "    <tr>\n",
       "      <th>22</th>\n",
       "      <td>719646494891263_720406428148603</td>\n",
       "      <td>No hay envío a domicilio?? Es genial la promo 😄</td>\n",
       "      <td>2017-11-04 22:52:35</td>\n",
       "    </tr>\n",
       "  </tbody>\n",
       "</table>\n",
       "</div>"
      ],
      "text/plain": [
       "                            comm_id  \\\n",
       "0   719646494891263_719657031556876   \n",
       "1   719646494891263_719676501554929   \n",
       "2   719646494891263_719696811552898   \n",
       "3   719646494891263_719710481551531   \n",
       "4   719646494891263_719716021550977   \n",
       "5   719646494891263_719724488216797   \n",
       "6   719646494891263_719726411549938   \n",
       "7   719646494891263_719730021549577   \n",
       "8   719646494891263_719732414882671   \n",
       "9   719646494891263_719736754882237   \n",
       "10  719646494891263_719739468215299   \n",
       "11  719646494891263_719742211548358   \n",
       "12  719646494891263_719744744881438   \n",
       "13  719646494891263_719744861548093   \n",
       "14  719646494891263_719751628214083   \n",
       "15  719646494891263_719751734880739   \n",
       "16  719646494891263_719778468211399   \n",
       "17  719646494891263_719835394872373   \n",
       "18  719646494891263_719854214870491   \n",
       "19  719646494891263_719877498201496   \n",
       "20  719646494891263_720333821489197   \n",
       "21  719646494891263_720334721489107   \n",
       "22  719646494891263_720406428148603   \n",
       "\n",
       "                                             comm_msg            comm_date  \n",
       "0                                        De donde sos  2017-11-03 08:16:01  \n",
       "1                                     Un telefono xfa  2017-11-03 08:54:17  \n",
       "2       Ojalá hubiera opciones así en mí lugar!!! 😱😭😊  2017-11-03 09:26:45  \n",
       "3                                         Es cierto!!  2017-11-03 09:48:43  \n",
       "4                                     Son de rosario?  2017-11-03 09:56:47  \n",
       "5   Hola.me.podrias pasar bien la.dirrecion. soy d...  2017-11-03 10:15:01  \n",
       "6                                             Cordoba  2017-11-03 10:21:22  \n",
       "7                                Uuu ke lejos ...!!!!  2017-11-03 10:30:41  \n",
       "8                                      Gaston Nicolás  2017-11-03 10:40:22  \n",
       "9   En donde esta el negocio o me podes pasar la d...  2017-11-03 10:55:35  \n",
       "10                       Lastima que están tan lejos😔  2017-11-03 11:02:01  \n",
       "11                                      De donde son?  2017-11-03 11:08:31  \n",
       "12         Puede ser que hagan alfajores de maicena ?  2017-11-03 11:15:28  \n",
       "13                                     De donde son??  2017-11-03 11:16:01  \n",
       "14                    Hacen envío  a capital Federal?  2017-11-03 11:32:10  \n",
       "15  Excelentes los sorrentinos de palta y queso!!!...  2017-11-03 11:32:25  \n",
       "16                      Hacen envios a cap. Federal??  2017-11-03 13:14:55  \n",
       "17                                                     2017-11-03 16:44:06  \n",
       "18  Alto! No entiendo, usted es d cordoba o de la ...  2017-11-03 18:17:45  \n",
       "19                                    De donde sos???  2017-11-03 19:58:54  \n",
       "20                              De que provincia sos?  2017-11-04 19:13:42  \n",
       "21                   Cuanto trae la caja de ravioles?  2017-11-04 19:17:29  \n",
       "22    No hay envío a domicilio?? Es genial la promo 😄  2017-11-04 22:52:35  "
      ]
     },
     "execution_count": 586,
     "metadata": {},
     "output_type": "execute_result"
    }
   ],
   "source": [
    "df_comms"
   ]
  },
  {
   "cell_type": "code",
   "execution_count": 481,
   "metadata": {
    "collapsed": false
   },
   "outputs": [
    {
     "data": {
      "text/plain": [
       "dict_keys(['data', 'paging'])"
      ]
     },
     "execution_count": 481,
     "metadata": {},
     "output_type": "execute_result"
    }
   ],
   "source": [
    "salida_comments.keys()"
   ]
  },
  {
   "cell_type": "code",
   "execution_count": 562,
   "metadata": {
    "collapsed": false
   },
   "outputs": [
    {
     "data": {
      "text/plain": [
       "23"
      ]
     },
     "execution_count": 562,
     "metadata": {},
     "output_type": "execute_result"
    }
   ],
   "source": [
    "len(salida_comments)"
   ]
  },
  {
   "cell_type": "code",
   "execution_count": 480,
   "metadata": {
    "collapsed": false
   },
   "outputs": [
    {
     "data": {
      "text/plain": [
       "'De donde sos'"
      ]
     },
     "execution_count": 480,
     "metadata": {},
     "output_type": "execute_result"
    }
   ],
   "source": [
    "salida_comments[\"data\"][0][\"message\"]"
   ]
  },
  {
   "cell_type": "code",
   "execution_count": 374,
   "metadata": {
    "collapsed": false
   },
   "outputs": [
    {
     "data": {
      "text/plain": [
       "'id:719646494891263_719657031556876,message:De donde sos,created_time:2017-11-03T13:16:01+0000,id:719646494891263_719676501554929,message:Un telefono xfa,created_time:2017-11-03T13:54:17+0000,id:719646494891263_719696811552898,message:Ojalu00e1 hubiera opciones asu00ed en mu00ed lugar!!! ud83dude31ud83dude2dud83dude0a,created_time:2017-11-03T14:26:45+0000,id:719646494891263_719710481551531,message:Es cierto!!,created_time:2017-11-03T14:48:43+0000,id:719646494891263_719716021550977,message:Son de rosario?,created_time:2017-11-03T14:56:47+0000,id:719646494891263_719724488216797,message:Hola.me.podrias pasar bien la.dirrecion. soy de.villa allende,created_time:2017-11-03T15:15:01+0000,id:719646494891263_719726411549938,message:Cordoba,created_time:2017-11-03T15:21:22+0000,id:719646494891263_719730021549577,message:Uuu ke lejos ...!!!!,created_time:2017-11-03T15:30:41+0000,id:719646494891263_719732414882671,message:Gaston Nicolu00e1s,created_time:2017-11-03T15:40:22+0000,id:719646494891263_719736754882237,message:En donde esta el negocio o me podes pasar la direccion,created_time:2017-11-03T15:55:35+0000,id:719646494891263_719739468215299,message:Lastima que estu00e1n tan lejosud83dude14,created_time:2017-11-03T16:02:01+0000,id:719646494891263_719742211548358,message:De donde son?,created_time:2017-11-03T16:08:31+0000,id:719646494891263_719744744881438,message:Puede ser que hagan alfajores de maicena ?,created_time:2017-11-03T16:15:28+0000,id:719646494891263_719744861548093,message:De donde son??,created_time:2017-11-03T16:16:01+0000,id:719646494891263_719751628214083,message:Hacen envu00edo  a capital Federal?,created_time:2017-11-03T16:32:10+0000,id:719646494891263_719751734880739,message:Excelentes los sorrentinos de palta y queso!!!!!!!!!ud83dude1cud83dude1cud83dude1c,created_time:2017-11-03T16:32:25+0000,id:719646494891263_719778468211399,message:Hacen envios a cap. Federal??,created_time:2017-11-03T18:14:55+0000,id:719646494891263_719835394872373,message:,created_time:2017-11-03T21:44:06+0000,id:719646494891263_719854214870491,message:Alto! No entiendo, usted es d cordoba o de la provincia de san miguel de tucuman?,created_time:2017-11-03T23:17:45+0000,id:719646494891263_719877498201496,message:De donde sos???,created_time:2017-11-04T00:58:54+0000,id:719646494891263_720333821489197,message:De que provincia sos?,created_time:2017-11-05T00:13:42+0000,id:719646494891263_720334721489107,message:Cuanto trae la caja de ravioles?,created_time:2017-11-05T00:17:29+0000,id:719646494891263_720406428148603,message:No hay envu00edo a domicilio?? Es genial la promo ud83dude04,created_time:2017-11-05T03:52:35+0000,'"
      ]
     },
     "execution_count": 374,
     "metadata": {},
     "output_type": "execute_result"
    }
   ],
   "source": [
    "#https://stackoverflow.com/questions/14215338/python-remove-multiple-character-in-list-of-string\n",
    "import string\n",
    "bad_chars = str.maketrans(\"\", \"\", \"(){}[]\\\"\\\\\")\n",
    "comments_str = df.comments.to_json().translate(bad_chars)\n",
    "end = comments_str.find('paging',1,len(comments_str))\n",
    "comments_str[7:end]"
   ]
  },
  {
   "cell_type": "code",
   "execution_count": 281,
   "metadata": {
    "collapsed": false
   },
   "outputs": [
    {
     "ename": "KeyError",
     "evalue": "'id'",
     "output_type": "error",
     "traceback": [
      "\u001b[0;31m---------------------------------------------------------------------------\u001b[0m",
      "\u001b[0;31mKeyError\u001b[0m                                  Traceback (most recent call last)",
      "\u001b[0;32m<ipython-input-281-f113c41f1120>\u001b[0m in \u001b[0;36m<module>\u001b[0;34m()\u001b[0m\n\u001b[1;32m     28\u001b[0m            status_published, comments)\n\u001b[1;32m     29\u001b[0m \u001b[1;33m\u001b[0m\u001b[0m\n\u001b[0;32m---> 30\u001b[0;31m \u001b[0mprocessed_test_status\u001b[0m \u001b[1;33m=\u001b[0m \u001b[0mprocessFacebookPageFeedStatus\u001b[0m\u001b[1;33m(\u001b[0m\u001b[0mtest_status\u001b[0m\u001b[1;33m)\u001b[0m\u001b[1;33m\u001b[0m\u001b[0m\n\u001b[0m\u001b[1;32m     31\u001b[0m \u001b[0mprint\u001b[0m\u001b[1;33m(\u001b[0m\u001b[0mprocessed_test_status\u001b[0m\u001b[1;33m)\u001b[0m\u001b[1;33m\u001b[0m\u001b[0m\n",
      "\u001b[0;32m<ipython-input-281-f113c41f1120>\u001b[0m in \u001b[0;36mprocessFacebookPageFeedStatus\u001b[0;34m(status)\u001b[0m\n\u001b[1;32m      7\u001b[0m     \u001b[1;31m# so must check for existence first\u001b[0m\u001b[1;33m\u001b[0m\u001b[1;33m\u001b[0m\u001b[0m\n\u001b[1;32m      8\u001b[0m \u001b[1;33m\u001b[0m\u001b[0m\n\u001b[0;32m----> 9\u001b[0;31m     \u001b[0mstatus_id\u001b[0m \u001b[1;33m=\u001b[0m \u001b[0mstatus\u001b[0m\u001b[1;33m[\u001b[0m\u001b[1;34m'id'\u001b[0m\u001b[1;33m]\u001b[0m\u001b[1;33m\u001b[0m\u001b[0m\n\u001b[0m\u001b[1;32m     10\u001b[0m     \u001b[0mstatus_message\u001b[0m \u001b[1;33m=\u001b[0m \u001b[1;34m''\u001b[0m \u001b[1;32mif\u001b[0m \u001b[1;34m'message'\u001b[0m \u001b[1;32mnot\u001b[0m \u001b[1;32min\u001b[0m \u001b[0mstatus\u001b[0m\u001b[1;33m.\u001b[0m\u001b[0mkeys\u001b[0m\u001b[1;33m(\u001b[0m\u001b[1;33m)\u001b[0m \u001b[1;32melse\u001b[0m \u001b[0mstatus\u001b[0m\u001b[1;33m[\u001b[0m\u001b[1;34m'message'\u001b[0m\u001b[1;33m]\u001b[0m\u001b[1;33m.\u001b[0m\u001b[0mencode\u001b[0m\u001b[1;33m(\u001b[0m\u001b[1;34m'utf-8'\u001b[0m\u001b[1;33m)\u001b[0m\u001b[1;33m\u001b[0m\u001b[0m\n\u001b[1;32m     11\u001b[0m     \u001b[0mlink_name\u001b[0m \u001b[1;33m=\u001b[0m \u001b[1;34m''\u001b[0m \u001b[1;32mif\u001b[0m \u001b[1;34m'name'\u001b[0m \u001b[1;32mnot\u001b[0m \u001b[1;32min\u001b[0m \u001b[0mstatus\u001b[0m\u001b[1;33m.\u001b[0m\u001b[0mkeys\u001b[0m\u001b[1;33m(\u001b[0m\u001b[1;33m)\u001b[0m \u001b[1;32melse\u001b[0m \u001b[0mstatus\u001b[0m\u001b[1;33m[\u001b[0m\u001b[1;34m'name'\u001b[0m\u001b[1;33m]\u001b[0m\u001b[1;33m.\u001b[0m\u001b[0mencode\u001b[0m\u001b[1;33m(\u001b[0m\u001b[1;34m'utf-8'\u001b[0m\u001b[1;33m)\u001b[0m\u001b[1;33m\u001b[0m\u001b[0m\n",
      "\u001b[0;31mKeyError\u001b[0m: 'id'"
     ]
    }
   ],
   "source": [
    "def processFacebookPageFeedStatus(status):\n",
    "    \n",
    "    # The status is now a Python dictionary, so for top-level items,\n",
    "    # we can simply call the key.\n",
    "    \n",
    "    # Additionally, some items may not always exist,\n",
    "    # so must check for existence first\n",
    "    \n",
    "    status_id = status['id']\n",
    "    status_message = '' if 'message' not in status.keys() else status['message'].encode('utf-8')\n",
    "    link_name = '' if 'name' not in status.keys() else status['name'].encode('utf-8')\n",
    "    status_type = status['type']\n",
    "    status_link = '' if 'link' not in status.keys() else status['link']\n",
    "        \n",
    "    # Time needs special care since a) it's in UTC and\n",
    "    # b) it's not easy to use in statistical programs.\n",
    "    \n",
    "    status_published = datetime.datetime.strptime(status['created_time'],'%Y-%m-%dT%H:%M:%S+0000')\n",
    "    status_published = status_published + datetime.timedelta(hours=-5) # EST\n",
    "    status_published = status_published.strftime('%Y-%m-%d %H:%M:%S') # best time format for spreadsheet programs\n",
    "    \n",
    "    # Nested items require chaining dictionary keys.\n",
    "    \n",
    "    comments = 0 if 'comments' not in status.keys() else status['comments']\n",
    "        \n",
    "    # return a tuple of all processed data\n",
    "    return (status_id, status_message, link_name, status_type, status_link,\n",
    "           status_published, comments)\n",
    "\n",
    "processed_test_status = processFacebookPageFeedStatus(test_status)\n",
    "print(processed_test_status)"
   ]
  }
 ],
 "metadata": {
  "anaconda-cloud": {},
  "kernelspec": {
   "display_name": "Python [conda root]",
   "language": "python",
   "name": "conda-root-py"
  },
  "language_info": {
   "codemirror_mode": {
    "name": "ipython",
    "version": 3
   },
   "file_extension": ".py",
   "mimetype": "text/x-python",
   "name": "python",
   "nbconvert_exporter": "python",
   "pygments_lexer": "ipython3",
   "version": "3.5.2"
  }
 },
 "nbformat": 4,
 "nbformat_minor": 1
}
