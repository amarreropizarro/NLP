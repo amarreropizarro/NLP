{
 "cells": [
  {
   "cell_type": "code",
   "execution_count": 2,
   "metadata": {
    "collapsed": true
   },
   "outputs": [],
   "source": [
    "import os\n",
    "import pandas as pd\n",
    "#import nltk\n",
    "from nltk.tag import StanfordNERTagger\n",
    "from nltk.tokenize import word_tokenize\n",
    "from nltk.corpus import stopwords\n",
    "import os\n",
    "import re\n",
    "import numpy as np\n",
    "#os.getcwd()"
   ]
  },
  {
   "cell_type": "code",
   "execution_count": 3,
   "metadata": {},
   "outputs": [],
   "source": [
    "path = 'C:/Users/axmarr/Documents/Varios/maestria/NLP/NLP-master/'\n",
    "\n",
    "#path = 'C:/Users/Kikes/Documents/GitHub/NLP/df_comms.csv'\n",
    "\n",
    "comentarios = pd.read_csv(path+'df_comms.csv', encoding='utf-8', index_col=0)"
   ]
  },
  {
   "cell_type": "code",
   "execution_count": 4,
   "metadata": {
    "collapsed": true
   },
   "outputs": [],
   "source": [
    "comentarios['emojis'].replace('', np.nan, inplace = True)"
   ]
  },
  {
   "cell_type": "code",
   "execution_count": 5,
   "metadata": {
    "collapsed": true
   },
   "outputs": [],
   "source": [
    "#dropeo filas con comentarios y sin emojis\n",
    "comentarios.dropna( subset = ['emojis'], inplace = True, how = 'all' )"
   ]
  },
  {
   "cell_type": "code",
   "execution_count": 38,
   "metadata": {
    "collapsed": true
   },
   "outputs": [],
   "source": [
    "str_emojis = str(comentarios['emojis']).encode('unicode-escape').decode('utf-8')"
   ]
  },
  {
   "cell_type": "code",
   "execution_count": 39,
   "metadata": {},
   "outputs": [
    {
     "data": {
      "text/plain": [
       "'1           \\\\U0001f635\\\\U0001f602\\\\U0001f602\\\\U0001f602\\\\n2              \\\\U0001f631\\\\n3              \\\\U0001f604\\\\n20             \\\\U0001f625\\\\n52            \\\\U0001f609\\\\U0001f622\\\\n58             \\\\U0001f60b\\\\n60             \\\\U0001f49c\\\\n67             \\\\U0001f60b\\\\n70          \\\\U0001f44f\\\\U0001f44f\\\\U0001f44f\\\\U0001f44f\\\\n77           \\\\U0001f44f\\\\U0001f44f\\\\U0001f44f\\\\n95            \\\\U0001f602\\\\U0001f602\\\\n99             \\\\U0001f35e\\\\n100            \\\\U0001f60b\\\\n102            \\\\U0001f60d\\\\n105            \\\\U0001f60a\\\\n107           \\\\U0001f602\\\\U0001f602\\\\n161          \\\\U0001f60d\\\\U0001f60d\\\\U0001f60d\\\\n165          \\\\U0001f603\\\\U0001f603\\\\U0001f603\\\\n169      \\\\U0001f62d\\\\U0001f62d\\\\U0001f62d\\\\U0001f62d\\\\U0001f62d\\\\U0001f62d\\\\U0001f62d\\\\n171          \\\\U0001f601\\\\U0001f44f\\\\U0001f44f\\\\n173           \\\\U0001f60b\\\\U0001f60d\\\\n178            \\\\U0001f60d\\\\n188            \\\\U0001f60b\\\\n199            \\\\U0001f631\\\\n201           \\\\U0001f600\\\\U0001f600\\\\n216       \\\\U0001f60d\\\\U0001f60d\\\\U0001f60d\\\\U0001f44c\\\\U0001f60d\\\\U0001f60f\\\\n224            \\\\U0001f601\\\\n230           \\\\U0001f60d\\\\U0001f44c\\\\n235          \\\\U0001f624\\\\U0001f624\\\\U0001f624\\\\n247           \\\\U0001f44f\\\\U0001f44f\\\\n          ...   \\\\n1134           \\\\U0001f631\\\\n1140          \\\\U0001f631\\\\U0001f631\\\\n1144        \\\\U0001f605\\\\U0001f604\\\\U0001f603\\\\U0001f602\\\\n1156           \\\\U0001f60a\\\\n1161           \\\\U0001f61c\\\\n1203       \\\\U0001f44d\\\\U0001f44f\\\\U0001f44f\\\\U0001f44f\\\\U0001f44f\\\\n1205    \\\\U0001f44f\\\\U0001f3fb\\\\U0001f44f\\\\U0001f3fb\\\\U0001f44f\\\\U0001f3fb\\\\U0001f44f\\\\U0001f3fb\\\\n1216         \\\\U0001f445\\\\U0001f445\\\\U0001f445\\\\n1235           \\\\U0001f440\\\\n1245           \\\\U0001f63b\\\\n1284          \\\\U0001f60b\\\\U0001f60b\\\\n1288           \\\\U0001f496\\\\n1298         \\\\U0001f60d\\\\U0001f60d\\\\U0001f60d\\\\n1304           \\\\U0001f609\\\\n1311           \\\\U0001f49c\\\\n1321           \\\\U0001f617\\\\n1341           \\\\U0001f496\\\\n1350          \\\\U0001f44c\\\\U0001f3fc\\\\n1354          \\\\U0001f446\\\\U0001f3fb\\\\n1379           \\\\U0001f4a3\\\\n1395           \\\\U0001f60b\\\\n1408           \\\\U0001f60b\\\\n1418          \\\\U0001f64f\\\\U0001f604\\\\n1424         \\\\U0001f61c\\\\U0001f61c\\\\U0001f61c\\\\n1427        \\\\U0001f60b\\\\U0001f60d\\\\U0001f60d\\\\U0001f60d\\\\n1429         \\\\U0001f601\\\\U0001f601\\\\U0001f64f\\\\n1440           \\\\U0001f62e\\\\n1451           \\\\U0001f60b\\\\n1480           \\\\U0001f60b\\\\n1481           \\\\U0001f339\\\\nName: emojis, dtype: object'"
      ]
     },
     "execution_count": 39,
     "metadata": {},
     "output_type": "execute_result"
    }
   ],
   "source": [
    "str_emojis"
   ]
  },
  {
   "cell_type": "code",
   "execution_count": 42,
   "metadata": {},
   "outputs": [],
   "source": [
    "#re.sub(\"\\\\U0001f635\",\"xxxxxx\",str_emojis)\n",
    "\n",
    "emoji_pattern = re.compile(\"[\"\n",
    "        u\"\\U0001F600-\\U0001F64F\" \n",
    "        u\"\\U0001F300-\\U0001F5FF\" \n",
    "        u\"\\U0001F680-\\U0001F6FF\" \n",
    "        u\"\\U0001F1E0-\\U0001F1FF\"\"]+\", flags=re.UNICODE)\n",
    "\n",
    "\n",
    "\"[\"u\"\\U0001F600\"]+\""
   ]
  },
  {
   "cell_type": "code",
   "execution_count": 78,
   "metadata": {},
   "outputs": [],
   "source": [
    "patron = '[\\U0001F600|\\U0001f601|\\U0001f602]+'"
   ]
  },
  {
   "cell_type": "code",
   "execution_count": 82,
   "metadata": {},
   "outputs": [],
   "source": [
    "patron2 = '[\\U0001F600|\\U0001F601|\\U0001F602|\\U0001F923|\\U0001F603|\"\\\n",
    "\"\\U0001F604|\\U0001F605|\\U0001F606|\\U0001F609|\\U0001F60A|\"\\\n",
    "\"\\U0001F60B|\\U0001F60E|\\U0001F60D|\\U0001F618|\\U0001F617|\"\\\n",
    "\"\\U0001F619|\\U0001F61A|\\U0001F642|\\U0001F917|\\U0001F929]+'"
   ]
  },
  {
   "cell_type": "code",
   "execution_count": 84,
   "metadata": {},
   "outputs": [
    {
     "data": {
      "text/plain": [
       "'[😀|😁|😂|🤣|😃|\"\"😄|😅|😆|😉|😊|\"\"😋|😎|😍|😘|😗|\"\"😙|😚|🙂|🤗|\\U0001f929]+'"
      ]
     },
     "execution_count": 84,
     "metadata": {},
     "output_type": "execute_result"
    }
   ],
   "source": [
    "patron2"
   ]
  },
  {
   "cell_type": "code",
   "execution_count": 83,
   "metadata": {},
   "outputs": [
    {
     "data": {
      "text/plain": [
       "'1           😵Bueno \\n2              😱\\n3              😄\\n20             😥\\n52            😉😢\\n58             😋\\n60             💜\\n67             😋\\n70          👏👏👏👏\\n77           👏👏👏\\n95            Bueno \\n99             🍞\\n100            😋\\n102            😍\\n105            😊\\n107           Bueno \\n161          😍😍😍\\n165          😃😃😃\\n169      😭😭😭😭😭😭😭\\n171          Bueno 👏👏\\n173           😋😍\\n178            😍\\n188            😋\\n199            😱\\n201           Bueno \\n216       😍😍😍👌😍😏\\n224            Bueno \\n230           😍👌\\n235          😤😤😤\\n247           👏👏\\n          ...   \\n1134           😱\\n1140          😱😱\\n1144        😅😄😃Bueno \\n1156           😊\\n1161           😜\\n1203       👍👏👏👏👏\\n1205    👏🏻👏🏻👏🏻👏🏻\\n1216         👅👅👅\\n1235           👀\\n1245           😻\\n1284          😋😋\\n1288           💖\\n1298         😍😍😍\\n1304           😉\\n1311           💜\\n1321           😗\\n1341           💖\\n1350          👌🏼\\n1354          👆🏻\\n1379           💣\\n1395           😋\\n1408           😋\\n1418          🙏😄\\n1424         😜😜😜\\n1427        😋😍😍😍\\n1429         Bueno 🙏\\n1440           😮\\n1451           😋\\n1480           😋\\n1481           🌹\\nName: emojis, dtype: object'"
      ]
     },
     "execution_count": 83,
     "metadata": {},
     "output_type": "execute_result"
    }
   ],
   "source": [
    "re.sub(patron,\"Bueno \",str(comentarios['emojis']))"
   ]
  },
  {
   "cell_type": "code",
   "execution_count": 89,
   "metadata": {},
   "outputs": [],
   "source": [
    "emoji = '😍'"
   ]
  },
  {
   "cell_type": "code",
   "execution_count": 90,
   "metadata": {},
   "outputs": [
    {
     "data": {
      "text/plain": [
       "str"
      ]
     },
     "execution_count": 90,
     "metadata": {},
     "output_type": "execute_result"
    }
   ],
   "source": [
    "type(emoji)"
   ]
  }
 ],
 "metadata": {
  "kernelspec": {
   "display_name": "Python 3",
   "language": "python",
   "name": "python3"
  },
  "language_info": {
   "codemirror_mode": {
    "name": "ipython",
    "version": 3
   },
   "file_extension": ".py",
   "mimetype": "text/x-python",
   "name": "python",
   "nbconvert_exporter": "python",
   "pygments_lexer": "ipython3",
   "version": "3.6.1"
  }
 },
 "nbformat": 4,
 "nbformat_minor": 2
}
