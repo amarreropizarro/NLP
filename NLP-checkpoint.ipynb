{
 "cells": [
  {
   "cell_type": "code",
   "execution_count": 1,
   "metadata": {
    "collapsed": true
   },
   "outputs": [],
   "source": [
    "import urllib3\n",
    "urllib3.disable_warnings()\n",
    "import json\n",
    "import datetime\n",
    "import csv\n",
    "import time"
   ]
  },
  {
   "cell_type": "markdown",
   "metadata": {},
   "source": [
    "* El ejemplo sale de: https://github.com/minimaxir/facebook-page-post-scraper/blob/master/examples/how_to_build_facebook_scraper.ipynb\n",
    "\n",
    "* Usa urllib3 en vez de urllib2\n",
    "\n",
    "* La adaptación de \"testFacebookPageData\" sale de:  \n",
    "https://urllib3.readthedocs.io/en/latest/user-guide.html"
   ]
  },
  {
   "cell_type": "code",
   "execution_count": 76,
   "metadata": {
    "collapsed": false
   },
   "outputs": [],
   "source": [
    "# El app_id salió de registrarme como desarrollador en facebook, y creando una nueva aplicaicón.\n",
    "# luego yendo a dashboard obtenes el app_idd, y app_secret\n",
    "# https://developers.facebook.com/apps/133254600775938/dashboard/\n",
    "\n",
    "app_id = \"133254600775938\"\n",
    "\n",
    "app_secret = \"c24db12ccb6a583d8e212600c1bed43e\" # DO NOT SHARE WITH ANYONE!\n",
    "\n",
    "access_token = app_id + \"|\" + app_secret\n",
    "\n",
    "#page_id = 'nytimes'\n",
    "#page_id = 'www.salesintacc.com.ar'\n",
    "page_id = 'upsoclsabores'"
   ]
  },
  {
   "cell_type": "code",
   "execution_count": 79,
   "metadata": {
    "collapsed": false
   },
   "outputs": [],
   "source": [
    "def request_until_succeed(url):\n",
    "    http = urllib3.PoolManager()\n",
    "    req = http.request('GET', url)\n",
    "    success = False\n",
    "    while success is False:\n",
    "        try:\n",
    "            response = http.urlopen('GET',url)\n",
    "            if response.status == 200:\n",
    "                success = True\n",
    "        except:\n",
    "            time.sleep(5)\n",
    "            \n",
    "            print (\"Error for URL %s: %s\" % (url, datetime.datetime.now()))\n",
    "\n",
    "    return req"
   ]
  },
  {
   "cell_type": "code",
   "execution_count": 80,
   "metadata": {
    "collapsed": false
   },
   "outputs": [],
   "source": [
    "def getFacebookPageFeedData(page_id, access_token, num_statuses):\n",
    "    \n",
    "    # construct the URL string\n",
    "    base = \"https://graph.facebook.com/v2.11\" #cambié v2.4 a v2.11, funcionaba igual con v2.4\n",
    "    node = \"/\" + page_id + \"/feed\"\n",
    "    parameters = \"/?fields=message,link,created_time,type,name,id,comments,from,attachment,shares&limit=%s&access_token=%s\" % (num_statuses, access_token)\n",
    "    url = base + node + parameters\n",
    "    \n",
    "    # Esto está cambiado respecto al ejemplo\n",
    "    http = urllib3.PoolManager()\n",
    "    req = http.request('GET', url)\n",
    "    data = json.loads(request_until_succeed(url).data.decode('latin-1'))\n",
    "    return data\n",
    "    \n",
    "#test_status = getFacebookPageFeedData(page_id, access_token, 1)[\"data\"][0]\n",
    "#print(json.dumps(test_status, indent=4, sort_keys=True))"
   ]
  },
  {
   "cell_type": "code",
   "execution_count": 81,
   "metadata": {
    "collapsed": false
   },
   "outputs": [],
   "source": [
    "salida = getFacebookPageFeedData(page_id, access_token, 1)[\"data\"][0]"
   ]
  },
  {
   "cell_type": "code",
   "execution_count": 82,
   "metadata": {
    "collapsed": false
   },
   "outputs": [],
   "source": [
    "salida_comments = salida['comments']['data']"
   ]
  },
  {
   "cell_type": "code",
   "execution_count": 83,
   "metadata": {
    "collapsed": false
   },
   "outputs": [],
   "source": [
    "def scrapComments(pos):\n",
    "\n",
    "    comm_id = salida_comments[pos]['id']\n",
    "    comm_msg = salida_comments[pos]['message']\n",
    "    comm_date = datetime.datetime.strptime(salida_comments[pos]['created_time'],'%Y-%m-%dT%H:%M:%S+0000')\n",
    "    comm_date = comm_date + datetime.timedelta(hours=-5) # EST\n",
    "    comm_date = comm_date.strftime('%Y-%m-%d %H:%M:%S') # best time format for spreadsheet programs\n",
    "\n",
    "    return(comm_id, comm_msg, comm_date)    "
   ]
  },
  {
   "cell_type": "code",
   "execution_count": 84,
   "metadata": {
    "collapsed": false
   },
   "outputs": [],
   "source": [
    "#import pandas as pd\n",
    "\n",
    "df_comms = pd.DataFrame(columns=['comm_id','comm_msg','comm_date'])"
   ]
  },
  {
   "cell_type": "code",
   "execution_count": 85,
   "metadata": {
    "collapsed": false
   },
   "outputs": [],
   "source": [
    "#import pandas as pd\n",
    "#list(scrapComments(1))\n",
    "#pd.DataFrame(scrapComments(1))\n",
    "\n",
    "ncomm = len(salida_comments)\n",
    "\n",
    "for i in range(ncomm):\n",
    "\n",
    "    df = pd.DataFrame(list(scrapComments(i)), index=['comm_id','comm_msg','comm_date']).transpose()\n",
    "\n",
    "    df_comms = df_comms.append(df, ignore_index=True)\n"
   ]
  },
  {
   "cell_type": "code",
   "execution_count": 86,
   "metadata": {
    "collapsed": false
   },
   "outputs": [
    {
     "data": {
      "text/html": [
       "<div>\n",
       "<table border=\"1\" class=\"dataframe\">\n",
       "  <thead>\n",
       "    <tr style=\"text-align: right;\">\n",
       "      <th></th>\n",
       "      <th>comm_id</th>\n",
       "      <th>comm_msg</th>\n",
       "      <th>comm_date</th>\n",
       "    </tr>\n",
       "  </thead>\n",
       "  <tbody>\n",
       "    <tr>\n",
       "      <th>0</th>\n",
       "      <td>2475532009337910_2475649629326148</td>\n",
       "      <td>Gastas más en productos que el flete se rompió...</td>\n",
       "      <td>2017-11-14 19:48:36</td>\n",
       "    </tr>\n",
       "    <tr>\n",
       "      <th>1</th>\n",
       "      <td>2475532009337910_2475609855996792</td>\n",
       "      <td>en vez de comprar papel kraft, mejor se usa pe...</td>\n",
       "      <td>2017-11-14 19:02:05</td>\n",
       "    </tr>\n",
       "    <tr>\n",
       "      <th>2</th>\n",
       "      <td>2475532009337910_2475665115991266</td>\n",
       "      <td>Jeje vayan cogiendo ideas Estíbaliz, Alexis!!</td>\n",
       "      <td>2017-11-14 20:08:38</td>\n",
       "    </tr>\n",
       "    <tr>\n",
       "      <th>3</th>\n",
       "      <td>2475532009337910_2475566176001160</td>\n",
       "      <td></td>\n",
       "      <td>2017-11-14 18:08:24</td>\n",
       "    </tr>\n",
       "    <tr>\n",
       "      <th>4</th>\n",
       "      <td>2475532009337910_2475684222656022</td>\n",
       "      <td>Al final; asas para la caja grande !\\nJuan Pablo</td>\n",
       "      <td>2017-11-14 20:32:10</td>\n",
       "    </tr>\n",
       "    <tr>\n",
       "      <th>5</th>\n",
       "      <td>2475532009337910_2475557472668697</td>\n",
       "      <td></td>\n",
       "      <td>2017-11-14 17:58:25</td>\n",
       "    </tr>\n",
       "    <tr>\n",
       "      <th>6</th>\n",
       "      <td>2475532009337910_2475574872666957</td>\n",
       "      <td>Este ha descubierto la pólvora jijiji😡</td>\n",
       "      <td>2017-11-14 18:18:33</td>\n",
       "    </tr>\n",
       "    <tr>\n",
       "      <th>7</th>\n",
       "      <td>2475532009337910_2475606129330498</td>\n",
       "      <td></td>\n",
       "      <td>2017-11-14 18:57:32</td>\n",
       "    </tr>\n",
       "    <tr>\n",
       "      <th>8</th>\n",
       "      <td>2475532009337910_2475673349323776</td>\n",
       "      <td></td>\n",
       "      <td>2017-11-14 20:17:08</td>\n",
       "    </tr>\n",
       "    <tr>\n",
       "      <th>9</th>\n",
       "      <td>2475532009337910_2475693112655133</td>\n",
       "      <td>Estos goeyes hacen cada mamada</td>\n",
       "      <td>2017-11-14 20:42:37</td>\n",
       "    </tr>\n",
       "    <tr>\n",
       "      <th>10</th>\n",
       "      <td>2475532009337910_2475566042667840</td>\n",
       "      <td>Gracias</td>\n",
       "      <td>2017-11-14 18:08:18</td>\n",
       "    </tr>\n",
       "    <tr>\n",
       "      <th>11</th>\n",
       "      <td>2475532009337910_2475572436000534</td>\n",
       "      <td></td>\n",
       "      <td>2017-11-14 18:15:20</td>\n",
       "    </tr>\n",
       "    <tr>\n",
       "      <th>12</th>\n",
       "      <td>2475532009337910_2475616345996143</td>\n",
       "      <td>Maximiliano Eandi toma nota!!! 📝</td>\n",
       "      <td>2017-11-14 19:09:20</td>\n",
       "    </tr>\n",
       "    <tr>\n",
       "      <th>13</th>\n",
       "      <td>2475532009337910_2475617189329392</td>\n",
       "      <td>Bren Flamminio</td>\n",
       "      <td>2017-11-14 19:10:22</td>\n",
       "    </tr>\n",
       "  </tbody>\n",
       "</table>\n",
       "</div>"
      ],
      "text/plain": [
       "                              comm_id  \\\n",
       "0   2475532009337910_2475649629326148   \n",
       "1   2475532009337910_2475609855996792   \n",
       "2   2475532009337910_2475665115991266   \n",
       "3   2475532009337910_2475566176001160   \n",
       "4   2475532009337910_2475684222656022   \n",
       "5   2475532009337910_2475557472668697   \n",
       "6   2475532009337910_2475574872666957   \n",
       "7   2475532009337910_2475606129330498   \n",
       "8   2475532009337910_2475673349323776   \n",
       "9   2475532009337910_2475693112655133   \n",
       "10  2475532009337910_2475566042667840   \n",
       "11  2475532009337910_2475572436000534   \n",
       "12  2475532009337910_2475616345996143   \n",
       "13  2475532009337910_2475617189329392   \n",
       "\n",
       "                                             comm_msg            comm_date  \n",
       "0   Gastas más en productos que el flete se rompió...  2017-11-14 19:48:36  \n",
       "1   en vez de comprar papel kraft, mejor se usa pe...  2017-11-14 19:02:05  \n",
       "2       Jeje vayan cogiendo ideas Estíbaliz, Alexis!!  2017-11-14 20:08:38  \n",
       "3                                                      2017-11-14 18:08:24  \n",
       "4    Al final; asas para la caja grande !\\nJuan Pablo  2017-11-14 20:32:10  \n",
       "5                                                      2017-11-14 17:58:25  \n",
       "6              Este ha descubierto la pólvora jijiji😡  2017-11-14 18:18:33  \n",
       "7                                                      2017-11-14 18:57:32  \n",
       "8                                                      2017-11-14 20:17:08  \n",
       "9                      Estos goeyes hacen cada mamada  2017-11-14 20:42:37  \n",
       "10                                            Gracias  2017-11-14 18:08:18  \n",
       "11                                                     2017-11-14 18:15:20  \n",
       "12                   Maximiliano Eandi toma nota!!! 📝  2017-11-14 19:09:20  \n",
       "13                                     Bren Flamminio  2017-11-14 19:10:22  "
      ]
     },
     "execution_count": 86,
     "metadata": {},
     "output_type": "execute_result"
    }
   ],
   "source": [
    "df_comms"
   ]
  },
  {
   "cell_type": "code",
   "execution_count": null,
   "metadata": {
    "collapsed": true
   },
   "outputs": [],
   "source": []
  }
 ],
 "metadata": {
  "anaconda-cloud": {},
  "kernelspec": {
   "display_name": "Python [conda root]",
   "language": "python",
   "name": "conda-root-py"
  },
  "language_info": {
   "codemirror_mode": {
    "name": "ipython",
    "version": 3
   },
   "file_extension": ".py",
   "mimetype": "text/x-python",
   "name": "python",
   "nbconvert_exporter": "python",
   "pygments_lexer": "ipython3",
   "version": "3.5.2"
  }
 },
 "nbformat": 4,
 "nbformat_minor": 1
}
