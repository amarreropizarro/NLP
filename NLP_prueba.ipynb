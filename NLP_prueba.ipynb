{
 "cells": [
  {
   "cell_type": "code",
   "execution_count": 3,
   "metadata": {
    "collapsed": true
   },
   "outputs": [],
   "source": [
    "os.chdir('C:\\\\Users\\\\axmarr\\\\Documents\\\\Varios\\\\Maestria\\\\NLP\\\\')"
   ]
  },
  {
   "cell_type": "code",
   "execution_count": 4,
   "metadata": {
    "collapsed": true
   },
   "outputs": [],
   "source": [
    "import pandas as pd"
   ]
  },
  {
   "cell_type": "code",
   "execution_count": 7,
   "metadata": {
    "collapsed": true
   },
   "outputs": [],
   "source": [
    "comentarios = pd.read_csv('df_comms.csv', encoding='latin-1')"
   ]
  },
  {
   "cell_type": "code",
   "execution_count": 24,
   "metadata": {},
   "outputs": [
    {
     "name": "stdout",
     "output_type": "stream",
     "text": [
      "This dog 😂\n"
     ]
    },
    {
     "data": {
      "text/plain": [
       "b'This dog \\xf0\\x9f\\x98\\x82'"
      ]
     },
     "execution_count": 24,
     "metadata": {},
     "output_type": "execute_result"
    }
   ],
   "source": [
    "text = u'This dog \\U0001f602'\n",
    "print(text) # with emoji"
   ]
  },
  {
   "cell_type": "code",
   "execution_count": 8,
   "metadata": {},
   "outputs": [
    {
     "name": "stderr",
     "output_type": "stream",
     "text": [
      "C:\\Users\\axmarr\\Documents\\Python\\WinPython-64bit-3.6.1.0Qt5\\python-3.6.1.amd64\\lib\\site-packages\\nltk\\tag\\stanford.py:183: DeprecationWarning: \n",
      "The StanfordTokenizer will be deprecated in version 3.2.5.\n",
      "Please use \u001b[91mnltk.tag.corenlp.CoreNLPPOSTagger\u001b[0m or \u001b[91mnltk.tag.corenlp.CoreNLPNERTagger\u001b[0m instead.\n",
      "  super(StanfordNERTagger, self).__init__(*args, **kwargs)\n"
     ]
    }
   ],
   "source": [
    "#Desde acá: https://nlp.stanford.edu/software/CRF-NER.shtml#Download\n",
    "#Se baja: https://nlp.stanford.edu/software/stanford-ner-2017-06-09.zip\n",
    "#Se descomprime el .zip y a la carpeta que está adentro se le cambia el nombre de: stanford-ner-2017-06-09 a: stanford-ner \n",
    "\n",
    "#import os\n",
    "java_path = \"C:/Program Files/Java/jre1.8.0_131/bin/java.exe\"\n",
    "os.environ['JAVAHOME'] = java_path\n",
    "\n",
    "#os.getcwd()\n",
    "#Hay que cambiar el directorio y que apunte donde está la carpeta que descomprimimos\n",
    "#os.chdir(\"C:/Users/axmarr/Documents/Varios/maestria/NLP/\")\n",
    "\n",
    "# -*- coding: utf-8 -*-\n",
    "\n",
    "#from nltk.tag import StanfordNERTagger\n",
    "#from nltk.tokenize import word_tokenize\n",
    "\n",
    "st = StanfordNERTagger('stanford-ner/classifiers/english.all.3class.distsim.crf.ser.gz',\n",
    "\t\t\t\t\t   'stanford-ner/stanford-ner.jar',\n",
    "\t\t\t\t\t   encoding='utf-8')\n",
    "\n",
    "#st = StanfordNERTagger('../../stanford-ner/classifiers/english.all.3class.distsim.crf.ser.gz',\n",
    "#\t\t\t\t\t   '../../stanford-ner/stanford-ner.jar',\n",
    "#\t\t\t\t\t   encoding='utf-8')\n",
    "\n",
    "\n"
   ]
  },
  {
   "cell_type": "code",
   "execution_count": 15,
   "metadata": {},
   "outputs": [
    {
     "data": {
      "text/plain": [
       "list"
      ]
     },
     "execution_count": 15,
     "metadata": {},
     "output_type": "execute_result"
    }
   ],
   "source": [
    "#import nltk\n",
    "\n",
    "#nltk.download('punkt')\n",
    "\n",
    "text = 'While in France, Christine lagarde discussed short-term stimulus efforts in a recent interview with the Wall Street Journal.'\n",
    "\n",
    "tokenized_text = word_tokenize(text)\n",
    "classified_text = st.tag(tokenized_text)\n",
    "\n",
    "type(classified_text)"
   ]
  },
  {
   "cell_type": "code",
   "execution_count": 76,
   "metadata": {
    "collapsed": true
   },
   "outputs": [],
   "source": [
    "import pandas as pd\n",
    "\n",
    "#list comprehension\n",
    "#my_list = [pers for pers in classified_text if 'PERSON' in pers]\n",
    "#my_list2 = [pers for pers in classified_text if pers[1] =='PERSON']\n",
    "#lambda\n",
    "#my_list3 = filter(lambda pers: pers[1] =='PERSON', classified_text)\n",
    "\n",
    "comments = pd.read_csv('df_comms.csv',encoding='latin-1')\n",
    "\n",
    "comm_str = comments.comm_msg.to_json()\n",
    "\n",
    "comm_token = word_tokenize(comm_str)\n",
    "\n",
    "comm_class = st.tag(comm_token)\n",
    "\n",
    "comm_personas = [pers for pers in comm_class if pers[1] =='PERSON']\n"
   ]
  },
  {
   "cell_type": "code",
   "execution_count": 78,
   "metadata": {
    "collapsed": true
   },
   "outputs": [],
   "source": [
    "#comm_personas"
   ]
  },
  {
   "cell_type": "code",
   "execution_count": 80,
   "metadata": {},
   "outputs": [
    {
     "data": {
      "text/plain": [
       "[('This', 'O'),\n",
       " ('dog', 'O'),\n",
       " ('😂', 'O'),\n",
       " ('is', 'O'),\n",
       " ('in', 'O'),\n",
       " ('Buenos', 'LOCATION'),\n",
       " ('Aires', 'LOCATION')]"
      ]
     },
     "execution_count": 80,
     "metadata": {},
     "output_type": "execute_result"
    }
   ],
   "source": [
    "text = u'This dog \\U0001f602 is in Buenos Aires'\n",
    "\n",
    "text_token = word_tokenize(text)\n",
    "\n",
    "text_class = st.tag(text_token)\n",
    "\n",
    "#text_class\n",
    "\n",
    "#Juntar entidades como chunks y no separadas:\n",
    "#https://stackoverflow.com/questions/30664677/extract-list-of-persons-and-organizations-using-stanford-ner-tagger-in-nltk\n"
   ]
  },
  {
   "cell_type": "code",
   "execution_count": 89,
   "metadata": {},
   "outputs": [
    {
     "name": "stdout",
     "output_type": "stream",
     "text": [
      "Juanma😂🤣\n",
      "Juanma🤣\n"
     ]
    },
    {
     "data": {
      "text/plain": [
       "['😂']"
      ]
     },
     "execution_count": 89,
     "metadata": {},
     "output_type": "execute_result"
    }
   ],
   "source": [
    "#Filtrar emojis del string o solo quedarse con los emojis\n",
    "import re\n",
    "\n",
    "text = 'Juanma😂🤣'\n",
    "print(text) # with emoji\n",
    "\n",
    "emoji_pattern = re.compile(\"[\"\n",
    "        u\"\\U0001F600-\\U0001F64F\"  # emoticons\n",
    "        u\"\\U0001F300-\\U0001F5FF\"  # symbols & pictographs\n",
    "        u\"\\U0001F680-\\U0001F6FF\"  # transport & map symbols\n",
    "        u\"\\U0001F1E0-\\U0001F1FF\"  # flags (iOS)\n",
    "                           \"]+\", flags=re.UNICODE)\n",
    "\n",
    "print(emoji_pattern.sub(r'', text)) # no emoji\n",
    "\n",
    "emoji_pattern.findall(text) #solo emojis"
   ]
  },
  {
   "cell_type": "code",
   "execution_count": 87,
   "metadata": {},
   "outputs": [
    {
     "data": {
      "text/plain": [
       "['🌷💖']"
      ]
     },
     "execution_count": 87,
     "metadata": {},
     "output_type": "execute_result"
    }
   ],
   "source": [
    "emoji_pattern.findall(text)"
   ]
  }
 ],
 "metadata": {
  "anaconda-cloud": {},
  "kernelspec": {
   "display_name": "Python 3",
   "language": "python",
   "name": "python3"
  },
  "language_info": {
   "codemirror_mode": {
    "name": "ipython",
    "version": 3
   },
   "file_extension": ".py",
   "mimetype": "text/x-python",
   "name": "python",
   "nbconvert_exporter": "python",
   "pygments_lexer": "ipython3",
   "version": "3.6.1"
  }
 },
 "nbformat": 4,
 "nbformat_minor": 1
}
