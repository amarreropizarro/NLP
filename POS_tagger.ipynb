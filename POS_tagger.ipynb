{
 "cells": [
  {
   "cell_type": "code",
   "execution_count": 7,
   "metadata": {
    "collapsed": false
   },
   "outputs": [],
   "source": [
    "import os\n",
    "import pandas as pd\n",
    "#import nltk\n",
    "from nltk.tag import StanfordNERTagger\n",
    "from nltk.tokenize import word_tokenize\n",
    "#os.getcwd()"
   ]
  },
  {
   "cell_type": "code",
   "execution_count": 3,
   "metadata": {
    "collapsed": true
   },
   "outputs": [],
   "source": [
    "comentarios = pd.read_csv('C:/Users/Kikes/Documents/GitHub/NLP/df_comms.csv', encoding='utf-8')"
   ]
  },
  {
   "cell_type": "code",
   "execution_count": 127,
   "metadata": {
    "collapsed": false,
    "scrolled": true
   },
   "outputs": [],
   "source": [
    "#Desde acá: https://nlp.stanford.edu/software/CRF-NER.shtml#Download\n",
    "#Se baja: https://nlp.stanford.edu/software/stanford-ner-2017-06-09.zip\n",
    "#Se descomprime el .zip y a la carpeta que está adentro se le cambia el nombre de: stanford-ner-2017-06-09 a: stanford-ner \n",
    "\n",
    "#import os\n",
    "#java_path = \"C:/Program Files/Java/jre1.8.0_131/bin/java.exe\"\n",
    "java_path = 'C:/Program Files (x86)/Java/jre1.8.0_131/bin/java.exe'\n",
    "\n",
    "os.environ['JAVAHOME'] = java_path\n",
    "\n",
    "#os.getcwd()\n",
    "#Hay que cambiar el directorio y que apunte donde está la carpeta que descomprimimos\n",
    "#os.chdir(\"C:/Users/axmarr/Documents/Varios/maestria/NLP/\")\n",
    "os.chdir('C:/Users/Kikes/Documents/maestria/NLP/')\n",
    "\n",
    "# -*- coding: utf-8 -*-\n",
    "\n",
    "#from nltk.tag import StanfordNERTagger\n",
    "#from nltk.tokenize import word_tokenize\n",
    "\n",
    "st = StanfordNERTagger('stanford-ner/classifiers/spanish.ancora.distsim.s512.crf.ser.gz',\n",
    "\t\t\t\t\t   'stanford-ner/stanford-ner.jar',\n",
    "\t\t\t\t\t   encoding='utf-8')"
   ]
  },
  {
   "cell_type": "code",
   "execution_count": 159,
   "metadata": {
    "collapsed": false
   },
   "outputs": [],
   "source": [
    "#text = 'While in France, Mira Melina Marin and Christine lagarde discussed short-term stimulus efforts in a recent interview with the Wall Street Journal.'\n",
    "#tokenized_text = word_tokenize(text)\n",
    "#classified_text = st.tag(tokenized_text)\n",
    "#print(classified_text)"
   ]
  },
  {
   "cell_type": "code",
   "execution_count": 145,
   "metadata": {
    "collapsed": false
   },
   "outputs": [],
   "source": [
    "def extraeNombres(comm):\n",
    "    #comm_str = comm.to_json()\n",
    "    #comm_token = word_tokenize(comm_str)\n",
    "    comm_token = word_tokenize(comm)\n",
    "    comm_class = st.tag(comm_token)\n",
    "    comm_list_per = [pers for pers in comm_class if pers[1] =='PERS']\n",
    "    comm_per = re.sub(r'[\\[\\]\\(\\)\\'\\,]', \"\", str([i[0] for i in comm_list_per]))\n",
    "    return comm_per"
   ]
  },
  {
   "cell_type": "code",
   "execution_count": 156,
   "metadata": {
    "collapsed": false
   },
   "outputs": [],
   "source": [
    "com2 = comentarios.head(5)\n",
    "\n",
    "pd.options.mode.chained_assignment = None\n",
    "com2['nombres'] = com2['comm_msg'].apply(lambda x: extraeNombres(x))\n",
    "pd.options.mode.chained_assignment = 'warn'"
   ]
  },
  {
   "cell_type": "code",
   "execution_count": 158,
   "metadata": {
    "collapsed": false
   },
   "outputs": [],
   "source": [
    "#com2 eliminar la columna unnamed:"
   ]
  }
 ],
 "metadata": {
  "anaconda-cloud": {},
  "kernelspec": {
   "display_name": "Python [default]",
   "language": "python",
   "name": "python3"
  },
  "language_info": {
   "codemirror_mode": {
    "name": "ipython",
    "version": 3
   },
   "file_extension": ".py",
   "mimetype": "text/x-python",
   "name": "python",
   "nbconvert_exporter": "python",
   "pygments_lexer": "ipython3",
   "version": "3.5.2"
  }
 },
 "nbformat": 4,
 "nbformat_minor": 1
}
