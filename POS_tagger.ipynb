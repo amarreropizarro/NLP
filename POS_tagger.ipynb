{
 "cells": [
  {
   "cell_type": "code",
   "execution_count": 68,
   "metadata": {
    "collapsed": false
   },
   "outputs": [],
   "source": [
    "import os\n",
    "import pandas as pd\n",
    "#import nltk\n",
    "from nltk.tag import StanfordNERTagger\n",
    "from nltk.tokenize import word_tokenize\n",
    "from nltk.corpus import stopwords\n",
    "import os\n",
    "import re\n",
    "import numpy as np\n",
    "#os.getcwd()"
   ]
  },
  {
   "cell_type": "code",
   "execution_count": 69,
   "metadata": {
    "collapsed": false
   },
   "outputs": [],
   "source": [
    "comentarios = pd.read_csv('C:/Users/Kikes/Documents/GitHub/NLP/df_comms.csv', encoding='utf-8', index_col=0)"
   ]
  },
  {
   "cell_type": "code",
   "execution_count": 70,
   "metadata": {
    "collapsed": true
   },
   "outputs": [],
   "source": [
    "df = comentarios.copy().head(10)"
   ]
  },
  {
   "cell_type": "code",
   "execution_count": 71,
   "metadata": {
    "collapsed": false
   },
   "outputs": [],
   "source": [
    "df['solo_emoji'] = np.where(df.comm_msg.isnull()&df.emojis.notnull(),1,0)\n",
    "#comentarios[comentarios.solo_emoji == 1]"
   ]
  },
  {
   "cell_type": "code",
   "execution_count": 72,
   "metadata": {
    "collapsed": false
   },
   "outputs": [],
   "source": [
    "#dropeo filas con comentarios nulos\n",
    "df.dropna( subset = ['comm_msg'], inplace = True )"
   ]
  },
  {
   "cell_type": "code",
   "execution_count": 73,
   "metadata": {
    "collapsed": false,
    "scrolled": true
   },
   "outputs": [],
   "source": [
    "#Desde acá: https://nlp.stanford.edu/software/CRF-NER.shtml#Download\n",
    "#Se baja: https://nlp.stanford.edu/software/stanford-ner-2017-06-09.zip\n",
    "#Se descomprime el .zip y a la carpeta que está adentro se le cambia el nombre de: stanford-ner-2017-06-09 a: stanford-ner \n",
    "\n",
    "#import os\n",
    "#java_path = \"C:/Program Files/Java/jre1.8.0_131/bin/java.exe\"\n",
    "java_path = 'C:/Program Files (x86)/Java/jre1.8.0_131/bin/java.exe'\n",
    "\n",
    "os.environ['JAVAHOME'] = java_path\n",
    "\n",
    "#os.getcwd()\n",
    "#Hay que cambiar el directorio y que apunte donde está la carpeta que descomprimimos\n",
    "#os.chdir(\"C:/Users/axmarr/Documents/Varios/maestria/NLP/\")\n",
    "os.chdir('C:/Users/Kikes/Documents/maestria/NLP/')\n",
    "\n",
    "# -*- coding: utf-8 -*-\n",
    "\n",
    "#from nltk.tag import StanfordNERTagger\n",
    "#from nltk.tokenize import word_tokenize\n",
    "\n",
    "st = StanfordNERTagger('stanford-ner/classifiers/spanish.ancora.distsim.s512.crf.ser.gz',\n",
    "\t\t\t\t\t   'stanford-ner/stanford-ner.jar',\n",
    "\t\t\t\t\t   encoding='utf-8')"
   ]
  },
  {
   "cell_type": "code",
   "execution_count": 74,
   "metadata": {
    "collapsed": false
   },
   "outputs": [],
   "source": [
    "def extraeNombres(comm):\n",
    "    comm_str = str(comm)#comm.to_json()\n",
    "    #comm_token = word_tokenize(comm_str)\n",
    "    comm_token = word_tokenize(comm_str)\n",
    "    #comm_token = word_tokenize(comm)\n",
    "    comm_class = st.tag(comm_token)\n",
    "    comm_list_per = [pers for pers in comm_class if pers[1] =='PERS']\n",
    "    comm_per = re.sub(r'[\\[\\]\\(\\)\\'\\,]', \"\", str([i[0] for i in comm_list_per]))\n",
    "    return comm_per"
   ]
  },
  {
   "cell_type": "code",
   "execution_count": 75,
   "metadata": {
    "collapsed": false
   },
   "outputs": [],
   "source": [
    "#Ver como optimizar este punto, el cuello de botella esta en st.tag()\n",
    "#https://engineering.upside.com/a-beginners-guide-to-optimizing-pandas-code-for-speed-c09ef2c6a4d6\n",
    "\n",
    "pd.options.mode.chained_assignment = None\n",
    "df['nombres'] = df['comm_msg'].apply(lambda x: extraeNombres(x))\n",
    "#comentarios['nombres'] = comentarios['comm_msg'].apply(lambda x: extraeNombres(x))\n",
    "pd.options.mode.chained_assignment = 'warn'"
   ]
  },
  {
   "cell_type": "code",
   "execution_count": 76,
   "metadata": {
    "collapsed": false
   },
   "outputs": [
    {
     "name": "stderr",
     "output_type": "stream",
     "text": [
      "C:\\Users\\Kikes\\Anaconda3\\lib\\site-packages\\ipykernel\\__main__.py:7: SettingWithCopyWarning: \n",
      "A value is trying to be set on a copy of a slice from a DataFrame\n",
      "\n",
      "See the caveats in the documentation: http://pandas.pydata.org/pandas-docs/stable/indexing.html#indexing-view-versus-copy\n"
     ]
    }
   ],
   "source": [
    "n_comm = len(df)\n",
    "\n",
    "for c in range(n_comm):\n",
    "    ext_name = str(df.nombres[c])\n",
    "    ext_comm = str(df.comm_msg[c])\n",
    "    comm_no_name = ext_comm.replace(ext_name,'')\n",
    "    df.comm_msg[c] = comm_no_name\n"
   ]
  },
  {
   "cell_type": "code",
   "execution_count": 77,
   "metadata": {
    "collapsed": false
   },
   "outputs": [],
   "source": [
    "df['solo_nombre'] = np.where( df.comm_msg.isnull()&df.nombres.notnull()&df.emojis.notnull(), 1, 0 )"
   ]
  },
  {
   "cell_type": "code",
   "execution_count": 78,
   "metadata": {
    "collapsed": false
   },
   "outputs": [],
   "source": [
    "df.dropna( subset = ['comm_msg'], inplace = True )"
   ]
  },
  {
   "cell_type": "code",
   "execution_count": 79,
   "metadata": {
    "collapsed": false
   },
   "outputs": [],
   "source": [
    "df['largo_comm'] = df['comm_msg'].apply(lambda x: len(x.replace(\" \",\"\")))"
   ]
  },
  {
   "cell_type": "code",
   "execution_count": 80,
   "metadata": {
    "collapsed": true
   },
   "outputs": [],
   "source": [
    "df['comm_msg'] = df['comm_msg'].apply(lambda x: re.sub(r'[!#$%&\\'()*+,-./:;<=>?@\\[\\]^_`{|}~¡]', \" \", x))"
   ]
  },
  {
   "cell_type": "code",
   "execution_count": 84,
   "metadata": {
    "collapsed": true
   },
   "outputs": [],
   "source": [
    "#https://stackoverflow.com/questions/19130512/stopword-removal-with-nltk\n",
    "from nltk.corpus import stopwords\n",
    "stop = set(stopwords.words('spanish'))\n",
    "sw2 = set(line.strip() for line in open('stop_words_acentos.txt'))\n",
    "stop2 = stop|sw2"
   ]
  },
  {
   "cell_type": "code",
   "execution_count": 159,
   "metadata": {
    "collapsed": false
   },
   "outputs": [],
   "source": [
    "#comm  = df['comm_msg'][1]\n",
    "\n",
    "def quitaSW(comm):\n",
    "\n",
    "    split_comm = comm.lower().split()\n",
    "    comm_no_stop = [i for i in split_comm if i not in stop2]\n",
    "\n",
    "    return comm_no_stop"
   ]
  },
  {
   "cell_type": "code",
   "execution_count": 160,
   "metadata": {
    "collapsed": false
   },
   "outputs": [
    {
     "ename": "AttributeError",
     "evalue": "'list' object has no attribute 'lower'",
     "output_type": "error",
     "traceback": [
      "\u001b[0;31m---------------------------------------------------------------------------\u001b[0m",
      "\u001b[0;31mAttributeError\u001b[0m                            Traceback (most recent call last)",
      "\u001b[0;32m<ipython-input-160-549beff51384>\u001b[0m in \u001b[0;36m<module>\u001b[0;34m()\u001b[0m\n\u001b[0;32m----> 1\u001b[0;31m \u001b[0mdf\u001b[0m\u001b[1;33m[\u001b[0m\u001b[1;34m'comm_msg'\u001b[0m\u001b[1;33m]\u001b[0m \u001b[1;33m=\u001b[0m \u001b[0mdf\u001b[0m\u001b[1;33m[\u001b[0m\u001b[1;34m'comm_msg'\u001b[0m\u001b[1;33m]\u001b[0m\u001b[1;33m.\u001b[0m\u001b[0mapply\u001b[0m\u001b[1;33m(\u001b[0m \u001b[1;32mlambda\u001b[0m \u001b[0mx\u001b[0m\u001b[1;33m:\u001b[0m \u001b[0mquitaSW\u001b[0m\u001b[1;33m(\u001b[0m \u001b[0mx\u001b[0m \u001b[1;33m)\u001b[0m \u001b[1;33m)\u001b[0m\u001b[1;33m\u001b[0m\u001b[0m\n\u001b[0m",
      "\u001b[0;32mC:\\Users\\Kikes\\Anaconda3\\lib\\site-packages\\pandas\\core\\series.py\u001b[0m in \u001b[0;36mapply\u001b[0;34m(self, func, convert_dtype, args, **kwds)\u001b[0m\n\u001b[1;32m   2218\u001b[0m         \u001b[1;32melse\u001b[0m\u001b[1;33m:\u001b[0m\u001b[1;33m\u001b[0m\u001b[0m\n\u001b[1;32m   2219\u001b[0m             \u001b[0mvalues\u001b[0m \u001b[1;33m=\u001b[0m \u001b[0mself\u001b[0m\u001b[1;33m.\u001b[0m\u001b[0masobject\u001b[0m\u001b[1;33m\u001b[0m\u001b[0m\n\u001b[0;32m-> 2220\u001b[0;31m             \u001b[0mmapped\u001b[0m \u001b[1;33m=\u001b[0m \u001b[0mlib\u001b[0m\u001b[1;33m.\u001b[0m\u001b[0mmap_infer\u001b[0m\u001b[1;33m(\u001b[0m\u001b[0mvalues\u001b[0m\u001b[1;33m,\u001b[0m \u001b[0mf\u001b[0m\u001b[1;33m,\u001b[0m \u001b[0mconvert\u001b[0m\u001b[1;33m=\u001b[0m\u001b[0mconvert_dtype\u001b[0m\u001b[1;33m)\u001b[0m\u001b[1;33m\u001b[0m\u001b[0m\n\u001b[0m\u001b[1;32m   2221\u001b[0m \u001b[1;33m\u001b[0m\u001b[0m\n\u001b[1;32m   2222\u001b[0m         \u001b[1;32mif\u001b[0m \u001b[0mlen\u001b[0m\u001b[1;33m(\u001b[0m\u001b[0mmapped\u001b[0m\u001b[1;33m)\u001b[0m \u001b[1;32mand\u001b[0m \u001b[0misinstance\u001b[0m\u001b[1;33m(\u001b[0m\u001b[0mmapped\u001b[0m\u001b[1;33m[\u001b[0m\u001b[1;36m0\u001b[0m\u001b[1;33m]\u001b[0m\u001b[1;33m,\u001b[0m \u001b[0mSeries\u001b[0m\u001b[1;33m)\u001b[0m\u001b[1;33m:\u001b[0m\u001b[1;33m\u001b[0m\u001b[0m\n",
      "\u001b[0;32mpandas\\src\\inference.pyx\u001b[0m in \u001b[0;36mpandas.lib.map_infer (pandas\\lib.c:62658)\u001b[0;34m()\u001b[0m\n",
      "\u001b[0;32m<ipython-input-160-549beff51384>\u001b[0m in \u001b[0;36m<lambda>\u001b[0;34m(x)\u001b[0m\n\u001b[0;32m----> 1\u001b[0;31m \u001b[0mdf\u001b[0m\u001b[1;33m[\u001b[0m\u001b[1;34m'comm_msg'\u001b[0m\u001b[1;33m]\u001b[0m \u001b[1;33m=\u001b[0m \u001b[0mdf\u001b[0m\u001b[1;33m[\u001b[0m\u001b[1;34m'comm_msg'\u001b[0m\u001b[1;33m]\u001b[0m\u001b[1;33m.\u001b[0m\u001b[0mapply\u001b[0m\u001b[1;33m(\u001b[0m \u001b[1;32mlambda\u001b[0m \u001b[0mx\u001b[0m\u001b[1;33m:\u001b[0m \u001b[0mquitaSW\u001b[0m\u001b[1;33m(\u001b[0m \u001b[0mx\u001b[0m \u001b[1;33m)\u001b[0m \u001b[1;33m)\u001b[0m\u001b[1;33m\u001b[0m\u001b[0m\n\u001b[0m",
      "\u001b[0;32m<ipython-input-159-220fd49d1da4>\u001b[0m in \u001b[0;36mquitaSW\u001b[0;34m(comm)\u001b[0m\n\u001b[1;32m      3\u001b[0m \u001b[1;32mdef\u001b[0m \u001b[0mquitaSW\u001b[0m\u001b[1;33m(\u001b[0m\u001b[0mcomm\u001b[0m\u001b[1;33m)\u001b[0m\u001b[1;33m:\u001b[0m\u001b[1;33m\u001b[0m\u001b[0m\n\u001b[1;32m      4\u001b[0m \u001b[1;33m\u001b[0m\u001b[0m\n\u001b[0;32m----> 5\u001b[0;31m     \u001b[0msplit_comm\u001b[0m \u001b[1;33m=\u001b[0m \u001b[0mcomm\u001b[0m\u001b[1;33m.\u001b[0m\u001b[0mlower\u001b[0m\u001b[1;33m(\u001b[0m\u001b[1;33m)\u001b[0m\u001b[1;33m.\u001b[0m\u001b[0msplit\u001b[0m\u001b[1;33m(\u001b[0m\u001b[1;33m)\u001b[0m\u001b[1;33m\u001b[0m\u001b[0m\n\u001b[0m\u001b[1;32m      6\u001b[0m     \u001b[0mcomm_no_stop\u001b[0m \u001b[1;33m=\u001b[0m \u001b[1;33m[\u001b[0m\u001b[0mi\u001b[0m \u001b[1;32mfor\u001b[0m \u001b[0mi\u001b[0m \u001b[1;32min\u001b[0m \u001b[0msplit_comm\u001b[0m \u001b[1;32mif\u001b[0m \u001b[0mi\u001b[0m \u001b[1;32mnot\u001b[0m \u001b[1;32min\u001b[0m \u001b[0mstop2\u001b[0m\u001b[1;33m]\u001b[0m\u001b[1;33m\u001b[0m\u001b[0m\n\u001b[1;32m      7\u001b[0m \u001b[1;33m\u001b[0m\u001b[0m\n",
      "\u001b[0;31mAttributeError\u001b[0m: 'list' object has no attribute 'lower'"
     ]
    }
   ],
   "source": [
    "df['comm_msg'] = df['comm_msg'].apply( lambda x: quitaSW( x ) )"
   ]
  },
  {
   "cell_type": "code",
   "execution_count": 151,
   "metadata": {
    "collapsed": false
   },
   "outputs": [
    {
     "data": {
      "text/html": [
       "<div>\n",
       "<table border=\"1\" class=\"dataframe\">\n",
       "  <thead>\n",
       "    <tr style=\"text-align: right;\">\n",
       "      <th></th>\n",
       "      <th>post_id</th>\n",
       "      <th>comm_id</th>\n",
       "      <th>comm_msg</th>\n",
       "      <th>comm_date</th>\n",
       "      <th>emojis</th>\n",
       "      <th>emoji_count</th>\n",
       "      <th>solo_emoji</th>\n",
       "      <th>nombres</th>\n",
       "      <th>solo_nombre</th>\n",
       "      <th>largo_comm</th>\n",
       "    </tr>\n",
       "  </thead>\n",
       "  <tbody>\n",
       "    <tr>\n",
       "      <th>0</th>\n",
       "      <td>262755230730537_546328889039835</td>\n",
       "      <td>546328889039835_546416972364360</td>\n",
       "      <td>[mmm, rico]</td>\n",
       "      <td>2017-11-22 19:03:36</td>\n",
       "      <td>NaN</td>\n",
       "      <td>0</td>\n",
       "      <td>0</td>\n",
       "      <td></td>\n",
       "      <td>0</td>\n",
       "      <td>10</td>\n",
       "    </tr>\n",
       "    <tr>\n",
       "      <th>1</th>\n",
       "      <td>262755230730537_546317689040955</td>\n",
       "      <td>546317689040955_546341119038612</td>\n",
       "      <td>[copa, postres, usan, frascos, indignación, da...</td>\n",
       "      <td>2017-11-22 15:14:52</td>\n",
       "      <td>😵😂😂😂</td>\n",
       "      <td>4</td>\n",
       "      <td>0</td>\n",
       "      <td></td>\n",
       "      <td>0</td>\n",
       "      <td>63</td>\n",
       "    </tr>\n",
       "    <tr>\n",
       "      <th>2</th>\n",
       "      <td>262755230730537_546317689040955</td>\n",
       "      <td>546317689040955_546422655697125</td>\n",
       "      <td>[mira, navidad, vos, veras, reemplazar, licor,...</td>\n",
       "      <td>2017-11-22 19:26:31</td>\n",
       "      <td>😱</td>\n",
       "      <td>1</td>\n",
       "      <td>0</td>\n",
       "      <td>Melina Yasmin</td>\n",
       "      <td>0</td>\n",
       "      <td>52</td>\n",
       "    </tr>\n",
       "    <tr>\n",
       "      <th>3</th>\n",
       "      <td>262755230730537_546317689040955</td>\n",
       "      <td>546317689040955_546339792372078</td>\n",
       "      <td>[q, rico, noo, fresquito, verano, asik, pronti...</td>\n",
       "      <td>2017-11-22 15:09:30</td>\n",
       "      <td>😄</td>\n",
       "      <td>1</td>\n",
       "      <td>0</td>\n",
       "      <td>Majo Maciel</td>\n",
       "      <td>0</td>\n",
       "      <td>59</td>\n",
       "    </tr>\n",
       "    <tr>\n",
       "      <th>4</th>\n",
       "      <td>262755230730537_546317689040955</td>\n",
       "      <td>546317689040955_546346215704769</td>\n",
       "      <td>[tendencia, veo, moso, trayendo, semejante, po...</td>\n",
       "      <td>2017-11-22 15:39:09</td>\n",
       "      <td>NaN</td>\n",
       "      <td>0</td>\n",
       "      <td>0</td>\n",
       "      <td></td>\n",
       "      <td>0</td>\n",
       "      <td>91</td>\n",
       "    </tr>\n",
       "    <tr>\n",
       "      <th>5</th>\n",
       "      <td>262755230730537_546317689040955</td>\n",
       "      <td>546317689040955_546344875704903</td>\n",
       "      <td>[nooooo, jajajajaja]</td>\n",
       "      <td>2017-11-22 15:33:04</td>\n",
       "      <td>NaN</td>\n",
       "      <td>0</td>\n",
       "      <td>0</td>\n",
       "      <td>Siiiiiiii</td>\n",
       "      <td>0</td>\n",
       "      <td>29</td>\n",
       "    </tr>\n",
       "    <tr>\n",
       "      <th>6</th>\n",
       "      <td>262755230730537_546317689040955</td>\n",
       "      <td>546317689040955_546436992362358</td>\n",
       "      <td>[engordo, feliz, jaja]</td>\n",
       "      <td>2017-11-22 20:08:28</td>\n",
       "      <td>NaN</td>\n",
       "      <td>0</td>\n",
       "      <td>0</td>\n",
       "      <td>Abalos Yanina</td>\n",
       "      <td>0</td>\n",
       "      <td>22</td>\n",
       "    </tr>\n",
       "    <tr>\n",
       "      <th>7</th>\n",
       "      <td>262755230730537_546317689040955</td>\n",
       "      <td>546317689040955_546344252371632</td>\n",
       "      <td>[postre, super, frascos, queda, horrible]</td>\n",
       "      <td>2017-11-22 15:30:07</td>\n",
       "      <td>NaN</td>\n",
       "      <td>0</td>\n",
       "      <td>0</td>\n",
       "      <td></td>\n",
       "      <td>0</td>\n",
       "      <td>49</td>\n",
       "    </tr>\n",
       "    <tr>\n",
       "      <th>8</th>\n",
       "      <td>262755230730537_546317689040955</td>\n",
       "      <td>546317689040955_546338485705542</td>\n",
       "      <td>[i, love, brownie]</td>\n",
       "      <td>2017-11-22 15:05:36</td>\n",
       "      <td>NaN</td>\n",
       "      <td>0</td>\n",
       "      <td>0</td>\n",
       "      <td></td>\n",
       "      <td>0</td>\n",
       "      <td>12</td>\n",
       "    </tr>\n",
       "    <tr>\n",
       "      <th>9</th>\n",
       "      <td>262755230730537_546317689040955</td>\n",
       "      <td>546317689040955_546346609038063</td>\n",
       "      <td>[ve, comodisimo, comer, eh, ajjajajaja, malisimo]</td>\n",
       "      <td>2017-11-22 15:41:07</td>\n",
       "      <td>NaN</td>\n",
       "      <td>0</td>\n",
       "      <td>0</td>\n",
       "      <td></td>\n",
       "      <td>0</td>\n",
       "      <td>51</td>\n",
       "    </tr>\n",
       "  </tbody>\n",
       "</table>\n",
       "</div>"
      ],
      "text/plain": [
       "                           post_id                          comm_id  \\\n",
       "0  262755230730537_546328889039835  546328889039835_546416972364360   \n",
       "1  262755230730537_546317689040955  546317689040955_546341119038612   \n",
       "2  262755230730537_546317689040955  546317689040955_546422655697125   \n",
       "3  262755230730537_546317689040955  546317689040955_546339792372078   \n",
       "4  262755230730537_546317689040955  546317689040955_546346215704769   \n",
       "5  262755230730537_546317689040955  546317689040955_546344875704903   \n",
       "6  262755230730537_546317689040955  546317689040955_546436992362358   \n",
       "7  262755230730537_546317689040955  546317689040955_546344252371632   \n",
       "8  262755230730537_546317689040955  546317689040955_546338485705542   \n",
       "9  262755230730537_546317689040955  546317689040955_546346609038063   \n",
       "\n",
       "                                            comm_msg            comm_date  \\\n",
       "0                                        [mmm, rico]  2017-11-22 19:03:36   \n",
       "1  [copa, postres, usan, frascos, indignación, da...  2017-11-22 15:14:52   \n",
       "2  [mira, navidad, vos, veras, reemplazar, licor,...  2017-11-22 19:26:31   \n",
       "3  [q, rico, noo, fresquito, verano, asik, pronti...  2017-11-22 15:09:30   \n",
       "4  [tendencia, veo, moso, trayendo, semejante, po...  2017-11-22 15:39:09   \n",
       "5                               [nooooo, jajajajaja]  2017-11-22 15:33:04   \n",
       "6                             [engordo, feliz, jaja]  2017-11-22 20:08:28   \n",
       "7          [postre, super, frascos, queda, horrible]  2017-11-22 15:30:07   \n",
       "8                                 [i, love, brownie]  2017-11-22 15:05:36   \n",
       "9  [ve, comodisimo, comer, eh, ajjajajaja, malisimo]  2017-11-22 15:41:07   \n",
       "\n",
       "  emojis  emoji_count  solo_emoji        nombres  solo_nombre  largo_comm  \n",
       "0    NaN            0           0                           0          10  \n",
       "1   😵😂😂😂            4           0                           0          63  \n",
       "2      😱            1           0  Melina Yasmin            0          52  \n",
       "3      😄            1           0    Majo Maciel            0          59  \n",
       "4    NaN            0           0                           0          91  \n",
       "5    NaN            0           0      Siiiiiiii            0          29  \n",
       "6    NaN            0           0  Abalos Yanina            0          22  \n",
       "7    NaN            0           0                           0          49  \n",
       "8    NaN            0           0                           0          12  \n",
       "9    NaN            0           0                           0          51  "
      ]
     },
     "execution_count": 151,
     "metadata": {},
     "output_type": "execute_result"
    }
   ],
   "source": [
    "df"
   ]
  },
  {
   "cell_type": "code",
   "execution_count": 82,
   "metadata": {
    "collapsed": false
   },
   "outputs": [],
   "source": [
    "#os.chdir('C:/Users/Kikes/Documents/maestria/NLP/')\n",
    "#df_com = pd.read_csv('comentarios.csv', encoding='utf-8', index_col = 0)\n",
    "#df_com.head(10)"
   ]
  }
 ],
 "metadata": {
  "anaconda-cloud": {},
  "kernelspec": {
   "display_name": "Python [default]",
   "language": "python",
   "name": "python3"
  },
  "language_info": {
   "codemirror_mode": {
    "name": "ipython",
    "version": 3
   },
   "file_extension": ".py",
   "mimetype": "text/x-python",
   "name": "python",
   "nbconvert_exporter": "python",
   "pygments_lexer": "ipython3",
   "version": "3.5.2"
  }
 },
 "nbformat": 4,
 "nbformat_minor": 1
}
