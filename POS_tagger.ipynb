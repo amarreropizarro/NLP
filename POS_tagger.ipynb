{
 "cells": [
  {
   "cell_type": "code",
   "execution_count": 2,
   "metadata": {
    "collapsed": false
   },
   "outputs": [],
   "source": [
    "import os\n",
    "import pandas as pd\n",
    "#import nltk\n",
    "from nltk.tag import StanfordNERTagger\n",
    "from nltk.tokenize import word_tokenize\n",
    "import os\n",
    "import re\n",
    "#os.getcwd()"
   ]
  },
  {
   "cell_type": "code",
   "execution_count": 3,
   "metadata": {
    "collapsed": false
   },
   "outputs": [],
   "source": [
    "comentarios = pd.read_csv('C:/Users/Kikes/Documents/GitHub/NLP/df_comms.csv', encoding='utf-8', index_col=0)"
   ]
  },
  {
   "cell_type": "code",
   "execution_count": 4,
   "metadata": {
    "collapsed": false
   },
   "outputs": [],
   "source": [
    "comentarios_nn = comentarios[comentarios.comm_msg.notnull()]\n",
    "#comentarios_nn[comentarios_nn.comm_id=='545801849092539_545952342410823']"
   ]
  },
  {
   "cell_type": "code",
   "execution_count": 5,
   "metadata": {
    "collapsed": false,
    "scrolled": true
   },
   "outputs": [],
   "source": [
    "#Desde acá: https://nlp.stanford.edu/software/CRF-NER.shtml#Download\n",
    "#Se baja: https://nlp.stanford.edu/software/stanford-ner-2017-06-09.zip\n",
    "#Se descomprime el .zip y a la carpeta que está adentro se le cambia el nombre de: stanford-ner-2017-06-09 a: stanford-ner \n",
    "\n",
    "#import os\n",
    "#java_path = \"C:/Program Files/Java/jre1.8.0_131/bin/java.exe\"\n",
    "java_path = 'C:/Program Files (x86)/Java/jre1.8.0_131/bin/java.exe'\n",
    "\n",
    "os.environ['JAVAHOME'] = java_path\n",
    "\n",
    "#os.getcwd()\n",
    "#Hay que cambiar el directorio y que apunte donde está la carpeta que descomprimimos\n",
    "#os.chdir(\"C:/Users/axmarr/Documents/Varios/maestria/NLP/\")\n",
    "os.chdir('C:/Users/Kikes/Documents/maestria/NLP/')\n",
    "\n",
    "# -*- coding: utf-8 -*-\n",
    "\n",
    "#from nltk.tag import StanfordNERTagger\n",
    "#from nltk.tokenize import word_tokenize\n",
    "\n",
    "st = StanfordNERTagger('stanford-ner/classifiers/spanish.ancora.distsim.s512.crf.ser.gz',\n",
    "\t\t\t\t\t   'stanford-ner/stanford-ner.jar',\n",
    "\t\t\t\t\t   encoding='utf-8')"
   ]
  },
  {
   "cell_type": "code",
   "execution_count": 9,
   "metadata": {
    "collapsed": false
   },
   "outputs": [],
   "source": [
    "def extraeNombres(comm):\n",
    "    comm_str = str(comm)#comm.to_json()\n",
    "    #comm_token = word_tokenize(comm_str)\n",
    "    comm_token = word_tokenize(comm_str)\n",
    "    #comm_token = word_tokenize(comm)\n",
    "    comm_class = st.tag(comm_token)\n",
    "    comm_list_per = [pers for pers in comm_class if pers[1] =='PERS']\n",
    "    comm_per = re.sub(r'[\\[\\]\\(\\)\\'\\,]', \"\", str([i[0] for i in comm_list_per]))\n",
    "    return comm_per"
   ]
  },
  {
   "cell_type": "code",
   "execution_count": 17,
   "metadata": {
    "collapsed": true
   },
   "outputs": [],
   "source": [
    "df = comentarios.head(5)"
   ]
  },
  {
   "cell_type": "code",
   "execution_count": 18,
   "metadata": {
    "collapsed": false
   },
   "outputs": [
    {
     "name": "stdout",
     "output_type": "stream",
     "text": [
      "1 loop, best of 3: 8.65 s per loop\n"
     ]
    }
   ],
   "source": [
    "%%timeit\n",
    "\n",
    "pd.options.mode.chained_assignment = None\n",
    "df['nombres'] = df['comm_msg'].apply(lambda x: extraeNombres(x))\n",
    "pd.options.mode.chained_assignment = 'warn'\n",
    "\n",
    "\n",
    "#1 registro: 1 loop, best of 3: 1.73 s per loop\n",
    "#5 registro: 1 loop, best of 3: 8.65 s per loop"
   ]
  },
  {
   "cell_type": "code",
   "execution_count": 10,
   "metadata": {
    "collapsed": false
   },
   "outputs": [],
   "source": [
    "#Ver como optimizar este punto\n",
    "#https://engineering.upside.com/a-beginners-guide-to-optimizing-pandas-code-for-speed-c09ef2c6a4d6\n",
    "\n",
    "pd.options.mode.chained_assignment = None\n",
    "comentarios['nombres'] = comentarios['comm_msg'].apply(lambda x: extraeNombres(x))\n",
    "pd.options.mode.chained_assignment = 'warn'"
   ]
  },
  {
   "cell_type": "code",
   "execution_count": 12,
   "metadata": {
    "collapsed": false
   },
   "outputs": [
    {
     "name": "stderr",
     "output_type": "stream",
     "text": [
      "C:\\Users\\Kikes\\Anaconda3\\lib\\site-packages\\ipykernel\\__main__.py:7: SettingWithCopyWarning: \n",
      "A value is trying to be set on a copy of a slice from a DataFrame\n",
      "\n",
      "See the caveats in the documentation: http://pandas.pydata.org/pandas-docs/stable/indexing.html#indexing-view-versus-copy\n"
     ]
    }
   ],
   "source": [
    "n_comm = len(comentarios)\n",
    "\n",
    "for c in range(n_comm):\n",
    "    ext_name = str(comentarios.nombres[c])\n",
    "    ext_comm = str(comentarios.comm_msg[c])\n",
    "    comm_no_name = ext_comm.replace(ext_name,'')\n",
    "    comentarios.comm_msg[c] = comm_no_name\n"
   ]
  },
  {
   "cell_type": "code",
   "execution_count": 13,
   "metadata": {
    "collapsed": false
   },
   "outputs": [
    {
     "data": {
      "text/html": [
       "<div>\n",
       "<table border=\"1\" class=\"dataframe\">\n",
       "  <thead>\n",
       "    <tr style=\"text-align: right;\">\n",
       "      <th></th>\n",
       "      <th>post_id</th>\n",
       "      <th>comm_id</th>\n",
       "      <th>comm_msg</th>\n",
       "      <th>comm_date</th>\n",
       "      <th>emojis</th>\n",
       "      <th>emoji_count</th>\n",
       "      <th>nombres</th>\n",
       "    </tr>\n",
       "  </thead>\n",
       "  <tbody>\n",
       "    <tr>\n",
       "      <th>0</th>\n",
       "      <td>262755230730537_546328889039835</td>\n",
       "      <td>546328889039835_546416972364360</td>\n",
       "      <td>Mmm que rico</td>\n",
       "      <td>2017-11-22 19:03:36</td>\n",
       "      <td>NaN</td>\n",
       "      <td>0</td>\n",
       "      <td></td>\n",
       "    </tr>\n",
       "    <tr>\n",
       "      <th>1</th>\n",
       "      <td>262755230730537_546317689040955</td>\n",
       "      <td>546317689040955_546341119038612</td>\n",
       "      <td>No tienen una copa para postres que usan frasc...</td>\n",
       "      <td>2017-11-22 15:14:52</td>\n",
       "      <td>😵😂😂😂</td>\n",
       "      <td>4</td>\n",
       "      <td></td>\n",
       "    </tr>\n",
       "    <tr>\n",
       "      <th>2</th>\n",
       "      <td>262755230730537_546317689040955</td>\n",
       "      <td>546317689040955_546422655697125</td>\n",
       "      <td>Mira  para navidad  vos veras con que reemplaz...</td>\n",
       "      <td>2017-11-22 19:26:31</td>\n",
       "      <td>😱</td>\n",
       "      <td>1</td>\n",
       "      <td>Melina Yasmin</td>\n",
       "    </tr>\n",
       "    <tr>\n",
       "      <th>3</th>\n",
       "      <td>262755230730537_546317689040955</td>\n",
       "      <td>546317689040955_546339792372078</td>\n",
       "      <td>...q rico noo!!?fresquito  para el  verano......</td>\n",
       "      <td>2017-11-22 15:09:30</td>\n",
       "      <td>😄</td>\n",
       "      <td>1</td>\n",
       "      <td>Majo Maciel</td>\n",
       "    </tr>\n",
       "    <tr>\n",
       "      <th>4</th>\n",
       "      <td>262755230730537_546317689040955</td>\n",
       "      <td>546317689040955_546346215704769</td>\n",
       "      <td>Tendencia o no, si veo a un moso trayendo me u...</td>\n",
       "      <td>2017-11-22 15:39:09</td>\n",
       "      <td>NaN</td>\n",
       "      <td>0</td>\n",
       "      <td></td>\n",
       "    </tr>\n",
       "  </tbody>\n",
       "</table>\n",
       "</div>"
      ],
      "text/plain": [
       "                           post_id                          comm_id  \\\n",
       "0  262755230730537_546328889039835  546328889039835_546416972364360   \n",
       "1  262755230730537_546317689040955  546317689040955_546341119038612   \n",
       "2  262755230730537_546317689040955  546317689040955_546422655697125   \n",
       "3  262755230730537_546317689040955  546317689040955_546339792372078   \n",
       "4  262755230730537_546317689040955  546317689040955_546346215704769   \n",
       "\n",
       "                                            comm_msg            comm_date  \\\n",
       "0                                       Mmm que rico  2017-11-22 19:03:36   \n",
       "1  No tienen una copa para postres que usan frasc...  2017-11-22 15:14:52   \n",
       "2  Mira  para navidad  vos veras con que reemplaz...  2017-11-22 19:26:31   \n",
       "3   ...q rico noo!!?fresquito  para el  verano......  2017-11-22 15:09:30   \n",
       "4  Tendencia o no, si veo a un moso trayendo me u...  2017-11-22 15:39:09   \n",
       "\n",
       "  emojis  emoji_count        nombres  \n",
       "0    NaN            0                 \n",
       "1   😵😂😂😂            4                 \n",
       "2      😱            1  Melina Yasmin  \n",
       "3      😄            1    Majo Maciel  \n",
       "4    NaN            0                 "
      ]
     },
     "execution_count": 13,
     "metadata": {},
     "output_type": "execute_result"
    }
   ],
   "source": [
    "comentarios.head()"
   ]
  },
  {
   "cell_type": "code",
   "execution_count": 14,
   "metadata": {
    "collapsed": true
   },
   "outputs": [],
   "source": [
    "comentarios.to_csv( 'comentarios.csv', encoding = 'utf-8')"
   ]
  }
 ],
 "metadata": {
  "anaconda-cloud": {},
  "kernelspec": {
   "display_name": "Python [default]",
   "language": "python",
   "name": "python3"
  },
  "language_info": {
   "codemirror_mode": {
    "name": "ipython",
    "version": 3
   },
   "file_extension": ".py",
   "mimetype": "text/x-python",
   "name": "python",
   "nbconvert_exporter": "python",
   "pygments_lexer": "ipython3",
   "version": "3.5.2"
  }
 },
 "nbformat": 4,
 "nbformat_minor": 1
}
